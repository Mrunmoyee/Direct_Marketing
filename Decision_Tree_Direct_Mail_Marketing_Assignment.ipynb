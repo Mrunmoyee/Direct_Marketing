{
  "cells": [
    {
      "cell_type": "markdown",
      "metadata": {
        "id": "GMWvz567rxTT"
      },
      "source": [
        "Assignment 7: Direct Mail Marketing (Decision Tree)\n",
        "\n",
        "Created by : Bhuvnesh Kumar\n",
        "\n",
        "[Statinfer.com](https://statinfer.com/)"
      ]
    },
    {
      "cell_type": "markdown",
      "metadata": {
        "id": "cV5XEdKXr0to"
      },
      "source": [
        "# Assignment Information\n",
        "\n",
        "This assignment has been divided into 4 parts:\n",
        "1. Data Importing and Exploration\n",
        "2. Data Cleaning and Preparation\n",
        "3. Decision Tree Model Building and Hyper Parameter Tuning\n",
        "4. Solving Class Imbalance\n"
      ]
    },
    {
      "cell_type": "markdown",
      "metadata": {
        "id": "NG6QgLtUr0pd"
      },
      "source": [
        "# Dataset Information\n",
        "An insurance company need to come up with a good marketing strategy. They want to run an e-mail campaign. Before sending a mail to all the available e-mail addresses, they want to first build a predictive model and identify the customers who are most likely to respond.\n",
        "\n",
        "Analyze the historical data and build a predictive model that helps us in maximizing the response rate. Thereby the company will be able to manage their cost by sending email only to those who is most likely to respond.\n",
        "\n",
        "The columns in the given dataset are as follows:\n",
        "\n",
        "1. **AGE:** Age of the customer.\n",
        "2. **CRED:** Credit Score of the customer\n",
        "3. **MS:** marital status\n",
        "4. **HEQ:** Home Equity\n",
        "5. **INCOME:** Customer's income\n",
        "6. **DEPC:** \n",
        "7. **MOB:** Member of the Bank\n",
        "8. **MILEAGE:** Mileage\n",
        "9. **RESTYPE:** Residence Type\n",
        "10. **GENDER:** Gender\n",
        "11. **EMP_STA:** Employment Status\n",
        "12. **RES_STA:** Residnece Status\n",
        "13. **DELINQ:** Number of recent deliquencies\n",
        "14. **NUMTR:** \n",
        "15. **MRTGI:** Mortgate Indicator\n",
        "16. **MFDU:** \n",
        "\n",
        "We need to classify `resp` given rest of the features.\n",
        "\n",
        "Dataset Link: https://raw.githubusercontent.com/venkatareddykonasani/Datasets/master/Direct_mail_marketing/DirectMail_clean.csv"
      ]
    },
    {
      "cell_type": "markdown",
      "metadata": {
        "id": "eEvl5n5-9x7v"
      },
      "source": [
        "# Part 1: Data Importing and Data Exploration\n",
        "\n",
        "**Importing dataset**\n",
        "1. Import the dataset and run basic checks commands\n",
        "\n",
        "**Data Exploration and Visualization**\n",
        "2. Univariate Analysis:\n",
        "  * Check Frequency counts of Categorical Variables\n",
        "  * Check Distribution of Numerical Variables (`.describe()`)\n",
        "3. Perform Bi-variate Analysis with relation to the prediction column `Selling_price`:\n",
        "  * Categorical columns : `sns.barplot()`\n",
        "  * Numerical Columns : `sns.regplot()`\n",
        "\n"
      ]
    },
    {
      "cell_type": "markdown",
      "metadata": {
        "id": "vuNVs20ex_lg"
      },
      "source": [
        "# 1) Import the data and run basic checks"
      ]
    },
    {
      "cell_type": "code",
      "execution_count": null,
      "metadata": {
        "id": "yXYBsV80E0Dy"
      },
      "outputs": [],
      "source": [
        "# Write your code here\n",
        "import pandas as pd\n",
        "import numpy as np"
      ]
    },
    {
      "cell_type": "code",
      "execution_count": null,
      "metadata": {
        "colab": {
          "base_uri": "https://localhost:8080/",
          "height": 206
        },
        "id": "SbvbWj3YVMYq",
        "outputId": "3accdfcb-c2cf-4dcf-daa4-ac541066bab5"
      },
      "outputs": [
        {
          "data": {
            "text/html": [
              "\n",
              "  <div id=\"df-8e21ad2d-0182-43ad-8eb7-90989e67db93\">\n",
              "    <div class=\"colab-df-container\">\n",
              "      <div>\n",
              "<style scoped>\n",
              "    .dataframe tbody tr th:only-of-type {\n",
              "        vertical-align: middle;\n",
              "    }\n",
              "\n",
              "    .dataframe tbody tr th {\n",
              "        vertical-align: top;\n",
              "    }\n",
              "\n",
              "    .dataframe thead th {\n",
              "        text-align: right;\n",
              "    }\n",
              "</style>\n",
              "<table border=\"1\" class=\"dataframe\">\n",
              "  <thead>\n",
              "    <tr style=\"text-align: right;\">\n",
              "      <th></th>\n",
              "      <th>AGE</th>\n",
              "      <th>CRED</th>\n",
              "      <th>MS</th>\n",
              "      <th>HEQ</th>\n",
              "      <th>INCOME</th>\n",
              "      <th>DEPC</th>\n",
              "      <th>MOB</th>\n",
              "      <th>MILEAGE</th>\n",
              "      <th>RESTYPE</th>\n",
              "      <th>GENDER</th>\n",
              "      <th>EMP_STA</th>\n",
              "      <th>RES_STA</th>\n",
              "      <th>DELINQ</th>\n",
              "      <th>NUMTR</th>\n",
              "      <th>MRTGI</th>\n",
              "      <th>MFDU</th>\n",
              "      <th>resp</th>\n",
              "    </tr>\n",
              "  </thead>\n",
              "  <tbody>\n",
              "    <tr>\n",
              "      <th>0</th>\n",
              "      <td>20</td>\n",
              "      <td>543.0</td>\n",
              "      <td>U</td>\n",
              "      <td>0.1</td>\n",
              "      <td>20</td>\n",
              "      <td>N</td>\n",
              "      <td>Y</td>\n",
              "      <td>14.418</td>\n",
              "      <td>HOME</td>\n",
              "      <td>M</td>\n",
              "      <td>1,2</td>\n",
              "      <td>1,2</td>\n",
              "      <td>0</td>\n",
              "      <td>2</td>\n",
              "      <td>N</td>\n",
              "      <td>0</td>\n",
              "      <td>0</td>\n",
              "    </tr>\n",
              "    <tr>\n",
              "      <th>1</th>\n",
              "      <td>18</td>\n",
              "      <td>445.0</td>\n",
              "      <td>U</td>\n",
              "      <td>0.1</td>\n",
              "      <td>20</td>\n",
              "      <td>N</td>\n",
              "      <td>Y</td>\n",
              "      <td>0.311</td>\n",
              "      <td>HOME</td>\n",
              "      <td>M</td>\n",
              "      <td>0</td>\n",
              "      <td>1,2</td>\n",
              "      <td>2</td>\n",
              "      <td>2</td>\n",
              "      <td>Y</td>\n",
              "      <td>0</td>\n",
              "      <td>0</td>\n",
              "    </tr>\n",
              "    <tr>\n",
              "      <th>2</th>\n",
              "      <td>19</td>\n",
              "      <td>423.0</td>\n",
              "      <td>U</td>\n",
              "      <td>0.1</td>\n",
              "      <td>20</td>\n",
              "      <td>N</td>\n",
              "      <td>N</td>\n",
              "      <td>17.876</td>\n",
              "      <td>HOME</td>\n",
              "      <td>M</td>\n",
              "      <td>1,2</td>\n",
              "      <td>1,2</td>\n",
              "      <td>1</td>\n",
              "      <td>0</td>\n",
              "      <td>Y</td>\n",
              "      <td>0</td>\n",
              "      <td>0</td>\n",
              "    </tr>\n",
              "    <tr>\n",
              "      <th>3</th>\n",
              "      <td>18</td>\n",
              "      <td>416.0</td>\n",
              "      <td>X</td>\n",
              "      <td>0.1</td>\n",
              "      <td>20</td>\n",
              "      <td>N</td>\n",
              "      <td>Y</td>\n",
              "      <td>17.084</td>\n",
              "      <td>HOME</td>\n",
              "      <td>F</td>\n",
              "      <td>1,2</td>\n",
              "      <td>1,2</td>\n",
              "      <td>0</td>\n",
              "      <td>0</td>\n",
              "      <td>Y</td>\n",
              "      <td>0</td>\n",
              "      <td>0</td>\n",
              "    </tr>\n",
              "    <tr>\n",
              "      <th>4</th>\n",
              "      <td>18</td>\n",
              "      <td>522.0</td>\n",
              "      <td>U</td>\n",
              "      <td>0.1</td>\n",
              "      <td>20</td>\n",
              "      <td>Y</td>\n",
              "      <td>Y</td>\n",
              "      <td>16.510</td>\n",
              "      <td>HOME</td>\n",
              "      <td>F</td>\n",
              "      <td>1,2</td>\n",
              "      <td>1,2</td>\n",
              "      <td>1</td>\n",
              "      <td>0</td>\n",
              "      <td>Y</td>\n",
              "      <td>0</td>\n",
              "      <td>0</td>\n",
              "    </tr>\n",
              "  </tbody>\n",
              "</table>\n",
              "</div>\n",
              "      <button class=\"colab-df-convert\" onclick=\"convertToInteractive('df-8e21ad2d-0182-43ad-8eb7-90989e67db93')\"\n",
              "              title=\"Convert this dataframe to an interactive table.\"\n",
              "              style=\"display:none;\">\n",
              "        \n",
              "  <svg xmlns=\"http://www.w3.org/2000/svg\" height=\"24px\"viewBox=\"0 0 24 24\"\n",
              "       width=\"24px\">\n",
              "    <path d=\"M0 0h24v24H0V0z\" fill=\"none\"/>\n",
              "    <path d=\"M18.56 5.44l.94 2.06.94-2.06 2.06-.94-2.06-.94-.94-2.06-.94 2.06-2.06.94zm-11 1L8.5 8.5l.94-2.06 2.06-.94-2.06-.94L8.5 2.5l-.94 2.06-2.06.94zm10 10l.94 2.06.94-2.06 2.06-.94-2.06-.94-.94-2.06-.94 2.06-2.06.94z\"/><path d=\"M17.41 7.96l-1.37-1.37c-.4-.4-.92-.59-1.43-.59-.52 0-1.04.2-1.43.59L10.3 9.45l-7.72 7.72c-.78.78-.78 2.05 0 2.83L4 21.41c.39.39.9.59 1.41.59.51 0 1.02-.2 1.41-.59l7.78-7.78 2.81-2.81c.8-.78.8-2.07 0-2.86zM5.41 20L4 18.59l7.72-7.72 1.47 1.35L5.41 20z\"/>\n",
              "  </svg>\n",
              "      </button>\n",
              "      \n",
              "  <style>\n",
              "    .colab-df-container {\n",
              "      display:flex;\n",
              "      flex-wrap:wrap;\n",
              "      gap: 12px;\n",
              "    }\n",
              "\n",
              "    .colab-df-convert {\n",
              "      background-color: #E8F0FE;\n",
              "      border: none;\n",
              "      border-radius: 50%;\n",
              "      cursor: pointer;\n",
              "      display: none;\n",
              "      fill: #1967D2;\n",
              "      height: 32px;\n",
              "      padding: 0 0 0 0;\n",
              "      width: 32px;\n",
              "    }\n",
              "\n",
              "    .colab-df-convert:hover {\n",
              "      background-color: #E2EBFA;\n",
              "      box-shadow: 0px 1px 2px rgba(60, 64, 67, 0.3), 0px 1px 3px 1px rgba(60, 64, 67, 0.15);\n",
              "      fill: #174EA6;\n",
              "    }\n",
              "\n",
              "    [theme=dark] .colab-df-convert {\n",
              "      background-color: #3B4455;\n",
              "      fill: #D2E3FC;\n",
              "    }\n",
              "\n",
              "    [theme=dark] .colab-df-convert:hover {\n",
              "      background-color: #434B5C;\n",
              "      box-shadow: 0px 1px 3px 1px rgba(0, 0, 0, 0.15);\n",
              "      filter: drop-shadow(0px 1px 2px rgba(0, 0, 0, 0.3));\n",
              "      fill: #FFFFFF;\n",
              "    }\n",
              "  </style>\n",
              "\n",
              "      <script>\n",
              "        const buttonEl =\n",
              "          document.querySelector('#df-8e21ad2d-0182-43ad-8eb7-90989e67db93 button.colab-df-convert');\n",
              "        buttonEl.style.display =\n",
              "          google.colab.kernel.accessAllowed ? 'block' : 'none';\n",
              "\n",
              "        async function convertToInteractive(key) {\n",
              "          const element = document.querySelector('#df-8e21ad2d-0182-43ad-8eb7-90989e67db93');\n",
              "          const dataTable =\n",
              "            await google.colab.kernel.invokeFunction('convertToInteractive',\n",
              "                                                     [key], {});\n",
              "          if (!dataTable) return;\n",
              "\n",
              "          const docLinkHtml = 'Like what you see? Visit the ' +\n",
              "            '<a target=\"_blank\" href=https://colab.research.google.com/notebooks/data_table.ipynb>data table notebook</a>'\n",
              "            + ' to learn more about interactive tables.';\n",
              "          element.innerHTML = '';\n",
              "          dataTable['output_type'] = 'display_data';\n",
              "          await google.colab.output.renderOutput(dataTable, element);\n",
              "          const docLink = document.createElement('div');\n",
              "          docLink.innerHTML = docLinkHtml;\n",
              "          element.appendChild(docLink);\n",
              "        }\n",
              "      </script>\n",
              "    </div>\n",
              "  </div>\n",
              "  "
            ],
            "text/plain": [
              "   AGE   CRED MS  HEQ  INCOME DEPC  ... RES_STA  DELINQ NUMTR MRTGI MFDU resp\n",
              "0   20  543.0  U  0.1      20    N  ...     1,2       0     2     N    0    0\n",
              "1   18  445.0  U  0.1      20    N  ...     1,2       2     2     Y    0    0\n",
              "2   19  423.0  U  0.1      20    N  ...     1,2       1     0     Y    0    0\n",
              "3   18  416.0  X  0.1      20    N  ...     1,2       0     0     Y    0    0\n",
              "4   18  522.0  U  0.1      20    Y  ...     1,2       1     0     Y    0    0\n",
              "\n",
              "[5 rows x 17 columns]"
            ]
          },
          "execution_count": 2,
          "metadata": {},
          "output_type": "execute_result"
        }
      ],
      "source": [
        "email_data=pd.read_csv(\"https://raw.githubusercontent.com/venkatareddykonasani/Datasets/master/Direct_mail_marketing/DirectMail_clean.csv\")\n",
        "email_data.head()"
      ]
    },
    {
      "cell_type": "markdown",
      "metadata": {
        "id": "XAua6N8JkX_U"
      },
      "source": [
        "\"resp\" is our target variable"
      ]
    },
    {
      "cell_type": "markdown",
      "metadata": {
        "id": "TBfiG1b6yAKT"
      },
      "source": [
        "## Basic Exploration and DataViz\n",
        "\n",
        "# 2) Perform UniVariate Analysis"
      ]
    },
    {
      "cell_type": "code",
      "execution_count": null,
      "metadata": {
        "colab": {
          "base_uri": "https://localhost:8080/"
        },
        "id": "eYghE7B1ZIcL",
        "outputId": "43f905f3-5ace-4e47-e1d6-b7eb0fd9b6a6"
      },
      "outputs": [
        {
          "name": "stdout",
          "output_type": "stream",
          "text": [
            "<class 'pandas.core.frame.DataFrame'>\n",
            "RangeIndex: 29904 entries, 0 to 29903\n",
            "Data columns (total 17 columns):\n",
            " #   Column   Non-Null Count  Dtype  \n",
            "---  ------   --------------  -----  \n",
            " 0   AGE      29904 non-null  int64  \n",
            " 1   CRED     29871 non-null  float64\n",
            " 2   MS       29904 non-null  object \n",
            " 3   HEQ      29904 non-null  float64\n",
            " 4   INCOME   29904 non-null  int64  \n",
            " 5   DEPC     29904 non-null  object \n",
            " 6   MOB      29904 non-null  object \n",
            " 7   MILEAGE  29904 non-null  float64\n",
            " 8   RESTYPE  29904 non-null  object \n",
            " 9   GENDER   29904 non-null  object \n",
            " 10  EMP_STA  29904 non-null  object \n",
            " 11  RES_STA  29904 non-null  object \n",
            " 12  DELINQ   29904 non-null  int64  \n",
            " 13  NUMTR    29904 non-null  int64  \n",
            " 14  MRTGI    29904 non-null  object \n",
            " 15  MFDU     29904 non-null  int64  \n",
            " 16  resp     29904 non-null  int64  \n",
            "dtypes: float64(3), int64(6), object(8)\n",
            "memory usage: 3.9+ MB\n"
          ]
        }
      ],
      "source": [
        "email_data.info()"
      ]
    },
    {
      "cell_type": "code",
      "execution_count": null,
      "metadata": {
        "colab": {
          "base_uri": "https://localhost:8080/",
          "height": 300
        },
        "id": "YNJ9WReGZXEA",
        "outputId": "3de89333-26cb-4d00-d4e2-8f15f6ec0c70"
      },
      "outputs": [
        {
          "data": {
            "text/html": [
              "\n",
              "  <div id=\"df-d6fd77b8-5113-4b71-8dd6-1cd27950f561\">\n",
              "    <div class=\"colab-df-container\">\n",
              "      <div>\n",
              "<style scoped>\n",
              "    .dataframe tbody tr th:only-of-type {\n",
              "        vertical-align: middle;\n",
              "    }\n",
              "\n",
              "    .dataframe tbody tr th {\n",
              "        vertical-align: top;\n",
              "    }\n",
              "\n",
              "    .dataframe thead th {\n",
              "        text-align: right;\n",
              "    }\n",
              "</style>\n",
              "<table border=\"1\" class=\"dataframe\">\n",
              "  <thead>\n",
              "    <tr style=\"text-align: right;\">\n",
              "      <th></th>\n",
              "      <th>AGE</th>\n",
              "      <th>CRED</th>\n",
              "      <th>HEQ</th>\n",
              "      <th>INCOME</th>\n",
              "      <th>MILEAGE</th>\n",
              "      <th>DELINQ</th>\n",
              "      <th>NUMTR</th>\n",
              "      <th>MFDU</th>\n",
              "      <th>resp</th>\n",
              "    </tr>\n",
              "  </thead>\n",
              "  <tbody>\n",
              "    <tr>\n",
              "      <th>count</th>\n",
              "      <td>29904.000000</td>\n",
              "      <td>29871.000000</td>\n",
              "      <td>29904.000000</td>\n",
              "      <td>29904.000000</td>\n",
              "      <td>29904.000000</td>\n",
              "      <td>29904.000000</td>\n",
              "      <td>29904.000000</td>\n",
              "      <td>29904.000000</td>\n",
              "      <td>29904.000000</td>\n",
              "    </tr>\n",
              "    <tr>\n",
              "      <th>mean</th>\n",
              "      <td>49.300361</td>\n",
              "      <td>603.627364</td>\n",
              "      <td>38.328892</td>\n",
              "      <td>41.360688</td>\n",
              "      <td>11.803395</td>\n",
              "      <td>0.766152</td>\n",
              "      <td>0.763343</td>\n",
              "      <td>0.452749</td>\n",
              "      <td>0.095539</td>\n",
              "    </tr>\n",
              "    <tr>\n",
              "      <th>std</th>\n",
              "      <td>15.546298</td>\n",
              "      <td>98.136661</td>\n",
              "      <td>37.205701</td>\n",
              "      <td>15.441137</td>\n",
              "      <td>5.744523</td>\n",
              "      <td>1.140847</td>\n",
              "      <td>1.143284</td>\n",
              "      <td>0.497771</td>\n",
              "      <td>0.293963</td>\n",
              "    </tr>\n",
              "    <tr>\n",
              "      <th>min</th>\n",
              "      <td>18.000000</td>\n",
              "      <td>300.000000</td>\n",
              "      <td>0.100000</td>\n",
              "      <td>20.000000</td>\n",
              "      <td>0.000000</td>\n",
              "      <td>0.000000</td>\n",
              "      <td>0.000000</td>\n",
              "      <td>0.000000</td>\n",
              "      <td>0.000000</td>\n",
              "    </tr>\n",
              "    <tr>\n",
              "      <th>25%</th>\n",
              "      <td>36.000000</td>\n",
              "      <td>574.000000</td>\n",
              "      <td>10.000000</td>\n",
              "      <td>30.000000</td>\n",
              "      <td>7.775750</td>\n",
              "      <td>0.000000</td>\n",
              "      <td>0.000000</td>\n",
              "      <td>0.000000</td>\n",
              "      <td>0.000000</td>\n",
              "    </tr>\n",
              "    <tr>\n",
              "      <th>50%</th>\n",
              "      <td>50.000000</td>\n",
              "      <td>617.000000</td>\n",
              "      <td>30.000000</td>\n",
              "      <td>40.000000</td>\n",
              "      <td>12.536500</td>\n",
              "      <td>0.000000</td>\n",
              "      <td>0.000000</td>\n",
              "      <td>0.000000</td>\n",
              "      <td>0.000000</td>\n",
              "    </tr>\n",
              "    <tr>\n",
              "      <th>75%</th>\n",
              "      <td>61.000000</td>\n",
              "      <td>652.000000</td>\n",
              "      <td>50.000000</td>\n",
              "      <td>50.000000</td>\n",
              "      <td>16.193250</td>\n",
              "      <td>1.000000</td>\n",
              "      <td>1.000000</td>\n",
              "      <td>1.000000</td>\n",
              "      <td>0.000000</td>\n",
              "    </tr>\n",
              "    <tr>\n",
              "      <th>max</th>\n",
              "      <td>90.000000</td>\n",
              "      <td>1789.000000</td>\n",
              "      <td>200.000000</td>\n",
              "      <td>110.000000</td>\n",
              "      <td>94.640000</td>\n",
              "      <td>7.000000</td>\n",
              "      <td>7.000000</td>\n",
              "      <td>1.000000</td>\n",
              "      <td>1.000000</td>\n",
              "    </tr>\n",
              "  </tbody>\n",
              "</table>\n",
              "</div>\n",
              "      <button class=\"colab-df-convert\" onclick=\"convertToInteractive('df-d6fd77b8-5113-4b71-8dd6-1cd27950f561')\"\n",
              "              title=\"Convert this dataframe to an interactive table.\"\n",
              "              style=\"display:none;\">\n",
              "        \n",
              "  <svg xmlns=\"http://www.w3.org/2000/svg\" height=\"24px\"viewBox=\"0 0 24 24\"\n",
              "       width=\"24px\">\n",
              "    <path d=\"M0 0h24v24H0V0z\" fill=\"none\"/>\n",
              "    <path d=\"M18.56 5.44l.94 2.06.94-2.06 2.06-.94-2.06-.94-.94-2.06-.94 2.06-2.06.94zm-11 1L8.5 8.5l.94-2.06 2.06-.94-2.06-.94L8.5 2.5l-.94 2.06-2.06.94zm10 10l.94 2.06.94-2.06 2.06-.94-2.06-.94-.94-2.06-.94 2.06-2.06.94z\"/><path d=\"M17.41 7.96l-1.37-1.37c-.4-.4-.92-.59-1.43-.59-.52 0-1.04.2-1.43.59L10.3 9.45l-7.72 7.72c-.78.78-.78 2.05 0 2.83L4 21.41c.39.39.9.59 1.41.59.51 0 1.02-.2 1.41-.59l7.78-7.78 2.81-2.81c.8-.78.8-2.07 0-2.86zM5.41 20L4 18.59l7.72-7.72 1.47 1.35L5.41 20z\"/>\n",
              "  </svg>\n",
              "      </button>\n",
              "      \n",
              "  <style>\n",
              "    .colab-df-container {\n",
              "      display:flex;\n",
              "      flex-wrap:wrap;\n",
              "      gap: 12px;\n",
              "    }\n",
              "\n",
              "    .colab-df-convert {\n",
              "      background-color: #E8F0FE;\n",
              "      border: none;\n",
              "      border-radius: 50%;\n",
              "      cursor: pointer;\n",
              "      display: none;\n",
              "      fill: #1967D2;\n",
              "      height: 32px;\n",
              "      padding: 0 0 0 0;\n",
              "      width: 32px;\n",
              "    }\n",
              "\n",
              "    .colab-df-convert:hover {\n",
              "      background-color: #E2EBFA;\n",
              "      box-shadow: 0px 1px 2px rgba(60, 64, 67, 0.3), 0px 1px 3px 1px rgba(60, 64, 67, 0.15);\n",
              "      fill: #174EA6;\n",
              "    }\n",
              "\n",
              "    [theme=dark] .colab-df-convert {\n",
              "      background-color: #3B4455;\n",
              "      fill: #D2E3FC;\n",
              "    }\n",
              "\n",
              "    [theme=dark] .colab-df-convert:hover {\n",
              "      background-color: #434B5C;\n",
              "      box-shadow: 0px 1px 3px 1px rgba(0, 0, 0, 0.15);\n",
              "      filter: drop-shadow(0px 1px 2px rgba(0, 0, 0, 0.3));\n",
              "      fill: #FFFFFF;\n",
              "    }\n",
              "  </style>\n",
              "\n",
              "      <script>\n",
              "        const buttonEl =\n",
              "          document.querySelector('#df-d6fd77b8-5113-4b71-8dd6-1cd27950f561 button.colab-df-convert');\n",
              "        buttonEl.style.display =\n",
              "          google.colab.kernel.accessAllowed ? 'block' : 'none';\n",
              "\n",
              "        async function convertToInteractive(key) {\n",
              "          const element = document.querySelector('#df-d6fd77b8-5113-4b71-8dd6-1cd27950f561');\n",
              "          const dataTable =\n",
              "            await google.colab.kernel.invokeFunction('convertToInteractive',\n",
              "                                                     [key], {});\n",
              "          if (!dataTable) return;\n",
              "\n",
              "          const docLinkHtml = 'Like what you see? Visit the ' +\n",
              "            '<a target=\"_blank\" href=https://colab.research.google.com/notebooks/data_table.ipynb>data table notebook</a>'\n",
              "            + ' to learn more about interactive tables.';\n",
              "          element.innerHTML = '';\n",
              "          dataTable['output_type'] = 'display_data';\n",
              "          await google.colab.output.renderOutput(dataTable, element);\n",
              "          const docLink = document.createElement('div');\n",
              "          docLink.innerHTML = docLinkHtml;\n",
              "          element.appendChild(docLink);\n",
              "        }\n",
              "      </script>\n",
              "    </div>\n",
              "  </div>\n",
              "  "
            ],
            "text/plain": [
              "                AGE          CRED  ...          MFDU          resp\n",
              "count  29904.000000  29871.000000  ...  29904.000000  29904.000000\n",
              "mean      49.300361    603.627364  ...      0.452749      0.095539\n",
              "std       15.546298     98.136661  ...      0.497771      0.293963\n",
              "min       18.000000    300.000000  ...      0.000000      0.000000\n",
              "25%       36.000000    574.000000  ...      0.000000      0.000000\n",
              "50%       50.000000    617.000000  ...      0.000000      0.000000\n",
              "75%       61.000000    652.000000  ...      1.000000      0.000000\n",
              "max       90.000000   1789.000000  ...      1.000000      1.000000\n",
              "\n",
              "[8 rows x 9 columns]"
            ]
          },
          "execution_count": 4,
          "metadata": {},
          "output_type": "execute_result"
        }
      ],
      "source": [
        "email_data.describe()"
      ]
    },
    {
      "cell_type": "code",
      "execution_count": null,
      "metadata": {
        "colab": {
          "base_uri": "https://localhost:8080/"
        },
        "id": "ljZIl5_7aUcI",
        "outputId": "bb94c75e-0c49-4310-aaaa-90ccd1573930"
      },
      "outputs": [
        {
          "data": {
            "text/plain": [
              "(29904, 17)"
            ]
          },
          "execution_count": 5,
          "metadata": {},
          "output_type": "execute_result"
        }
      ],
      "source": [
        "email_data.shape"
      ]
    },
    {
      "cell_type": "code",
      "execution_count": null,
      "metadata": {
        "id": "cKCFYkM0GCJ7"
      },
      "outputs": [],
      "source": [
        "categorical = ['MS', 'DEPC', 'MOB', 'RESTYPE', 'GENDER', 'EMP_STA', 'RES_STA', 'DELINQ', 'MRTGI', 'MFDU']\n",
        "numerical = ['AGE', 'CRED', 'HEQ', 'INCOME', 'MILEAGE', 'NUMTR']"
      ]
    },
    {
      "cell_type": "markdown",
      "metadata": {
        "id": "EemBzeKQ-LRa"
      },
      "source": [
        "### UniVariate Analysis:Categorical Variables\n",
        "\n",
        "'MS', 'DEPC', 'MOB', 'RESTYPE', 'GENDER', 'EMP_STA', 'RES_STA', 'DELINQ', 'MRTGI', 'MFDU'\n",
        "\n",
        "-are categorical variables, Let's look at their value counts."
      ]
    },
    {
      "cell_type": "code",
      "execution_count": null,
      "metadata": {
        "colab": {
          "base_uri": "https://localhost:8080/"
        },
        "id": "zdxCd7Gnaii8",
        "outputId": "11fcedc8-cb3d-45a5-972d-27a7533f9e00"
      },
      "outputs": [
        {
          "name": "stdout",
          "output_type": "stream",
          "text": [
            "===========MS============\n",
            "M    17221\n",
            "U    11721\n",
            "X      962\n",
            "Name: MS, dtype: int64\n",
            "\n",
            "===========DEPC============\n",
            "N    18502\n",
            "Y    11402\n",
            "Name: DEPC, dtype: int64\n",
            "\n",
            "===========MOB============\n",
            "Y    18564\n",
            "N    11340\n",
            "Name: MOB, dtype: int64\n",
            "\n",
            "===========RESTYPE============\n",
            "HOME      16365\n",
            "RENTER    12088\n",
            "COOP        885\n",
            "CONDO       566\n",
            "Name: RESTYPE, dtype: int64\n",
            "\n",
            "===========GENDER============\n",
            "M    17276\n",
            "F    12628\n",
            "Name: GENDER, dtype: int64\n",
            "\n",
            "===========EMP_STA============\n",
            "1,2    27146\n",
            "3+      1790\n",
            "0        968\n",
            "Name: EMP_STA, dtype: int64\n",
            "\n",
            "===========RES_STA============\n",
            "1,2    28109\n",
            "3+      1795\n",
            "Name: RES_STA, dtype: int64\n",
            "\n",
            "===========DELINQ============\n",
            "0    17688\n",
            "1     5991\n",
            "2     3084\n",
            "3     1984\n",
            "4     1071\n",
            "7       29\n",
            "5       29\n",
            "6       28\n",
            "Name: DELINQ, dtype: int64\n",
            "\n",
            "===========MRTGI============\n",
            "N    17484\n",
            "Y    10657\n",
            "U     1763\n",
            "Name: MRTGI, dtype: int64\n",
            "\n",
            "===========MFDU============\n",
            "0    16365\n",
            "1    13539\n",
            "Name: MFDU, dtype: int64\n",
            "\n"
          ]
        }
      ],
      "source": [
        "for cat in categorical:\n",
        "  print(\"===========\"+cat+\"============\")\n",
        "  print(email_data[cat].value_counts())\n",
        "  print()\n",
        "  "
      ]
    },
    {
      "cell_type": "code",
      "execution_count": null,
      "metadata": {
        "id": "mWs5Hg3Wede2"
      },
      "outputs": [],
      "source": [
        "import seaborn as sns\n",
        "import matplotlib.pyplot as plt"
      ]
    },
    {
      "cell_type": "code",
      "execution_count": null,
      "metadata": {
        "colab": {
          "base_uri": "https://localhost:8080/"
        },
        "id": "i4qS7A6ieafm",
        "outputId": "6f14c362-8922-4698-dfe0-38df2cd6e515"
      },
      "outputs": [
        {
          "name": "stdout",
          "output_type": "stream",
          "text": [
            "===========MS============\n"
          ]
        },
        {
          "data": {
            "image/png": "[encoded data removed]",
            "text/plain": [
              "<Figure size 432x288 with 1 Axes>"
            ]
          },
          "metadata": {
            "needs_background": "light"
          },
          "output_type": "display_data"
        },
        {
          "name": "stdout",
          "output_type": "stream",
          "text": [
            "\n",
            "===========DEPC============\n"
          ]
        },
        {
          "data": {
            "image/png": "[encoded data removed]",
            "text/plain": [
              "<Figure size 432x288 with 1 Axes>"
            ]
          },
          "metadata": {
            "needs_background": "light"
          },
          "output_type": "display_data"
        },
        {
          "name": "stdout",
          "output_type": "stream",
          "text": [
            "\n",
            "===========MOB============\n"
          ]
        },
        {
          "data": {
            "image/png": "[encoded data removed]",
            "text/plain": [
              "<Figure size 432x288 with 1 Axes>"
            ]
          },
          "metadata": {
            "needs_background": "light"
          },
          "output_type": "display_data"
        },
        {
          "name": "stdout",
          "output_type": "stream",
          "text": [
            "\n",
            "===========RESTYPE============\n"
          ]
        },
        {
          "data": {
            "image/png": "[encoded data removed]",
            "text/plain": [
              "<Figure size 432x288 with 1 Axes>"
            ]
          },
          "metadata": {
            "needs_background": "light"
          },
          "output_type": "display_data"
        },
        {
          "name": "stdout",
          "output_type": "stream",
          "text": [
            "\n",
            "===========GENDER============\n"
          ]
        },
        {
          "data": {
            "image/png": "[encoded data removed]",
            "text/plain": [
              "<Figure size 432x288 with 1 Axes>"
            ]
          },
          "metadata": {
            "needs_background": "light"
          },
          "output_type": "display_data"
        },
        {
          "name": "stdout",
          "output_type": "stream",
          "text": [
            "\n",
            "===========EMP_STA============\n"
          ]
        },
        {
          "data": {
            "image/png": "[encoded data removed]",
            "text/plain": [
              "<Figure size 432x288 with 1 Axes>"
            ]
          },
          "metadata": {
            "needs_background": "light"
          },
          "output_type": "display_data"
        },
        {
          "name": "stdout",
          "output_type": "stream",
          "text": [
            "\n",
            "===========RES_STA============\n"
          ]
        },
        {
          "data": {
            "image/png": "[encoded data removed]",
            "text/plain": [
              "<Figure size 432x288 with 1 Axes>"
            ]
          },
          "metadata": {
            "needs_background": "light"
          },
          "output_type": "display_data"
        },
        {
          "name": "stdout",
          "output_type": "stream",
          "text": [
            "\n",
            "===========DELINQ============\n"
          ]
        },
        {
          "data": {
            "image/png": "[encoded data removed]",
            "text/plain": [
              "<Figure size 432x288 with 1 Axes>"
            ]
          },
          "metadata": {
            "needs_background": "light"
          },
          "output_type": "display_data"
        },
        {
          "name": "stdout",
          "output_type": "stream",
          "text": [
            "\n",
            "===========MRTGI============\n"
          ]
        },
        {
          "data": {
            "image/png": "[encoded data removed]",
            "text/plain": [
              "<Figure size 432x288 with 1 Axes>"
            ]
          },
          "metadata": {
            "needs_background": "light"
          },
          "output_type": "display_data"
        },
        {
          "name": "stdout",
          "output_type": "stream",
          "text": [
            "\n",
            "===========MFDU============\n"
          ]
        },
        {
          "data": {
            "image/png": "[encoded data removed]",
            "text/plain": [
              "<Figure size 432x288 with 1 Axes>"
            ]
          },
          "metadata": {
            "needs_background": "light"
          },
          "output_type": "display_data"
        },
        {
          "name": "stdout",
          "output_type": "stream",
          "text": [
            "\n"
          ]
        }
      ],
      "source": [
        "for cat in categorical:\n",
        "  print(\"===========\"+cat+\"============\")\n",
        "  sns.countplot(data=email_data, x=cat)\n",
        "  plt.show()\n",
        "  print()"
      ]
    },
    {
      "cell_type": "markdown",
      "metadata": {
        "id": "PzIN383HAVzi"
      },
      "source": [
        "### UniVariate Analysis:Numerical Variables"
      ]
    },
    {
      "cell_type": "code",
      "execution_count": null,
      "metadata": {
        "colab": {
          "base_uri": "https://localhost:8080/"
        },
        "id": "yfNuliVXi-Dm",
        "outputId": "fb1cf82f-e10c-4eda-896f-82a1ca6ba63d"
      },
      "outputs": [
        {
          "name": "stdout",
          "output_type": "stream",
          "text": [
            "===========AGE============\n",
            "count    29904.000000\n",
            "mean        49.300361\n",
            "std         15.546298\n",
            "min         18.000000\n",
            "25%         36.000000\n",
            "50%         50.000000\n",
            "75%         61.000000\n",
            "max         90.000000\n",
            "Name: AGE, dtype: float64\n",
            "\n",
            "===========CRED============\n",
            "count    29871.000000\n",
            "mean       603.627364\n",
            "std         98.136661\n",
            "min        300.000000\n",
            "25%        574.000000\n",
            "50%        617.000000\n",
            "75%        652.000000\n",
            "max       1789.000000\n",
            "Name: CRED, dtype: float64\n",
            "\n",
            "===========HEQ============\n",
            "count    29904.000000\n",
            "mean        38.328892\n",
            "std         37.205701\n",
            "min          0.100000\n",
            "25%         10.000000\n",
            "50%         30.000000\n",
            "75%         50.000000\n",
            "max        200.000000\n",
            "Name: HEQ, dtype: float64\n",
            "\n",
            "===========INCOME============\n",
            "count    29904.000000\n",
            "mean        41.360688\n",
            "std         15.441137\n",
            "min         20.000000\n",
            "25%         30.000000\n",
            "50%         40.000000\n",
            "75%         50.000000\n",
            "max        110.000000\n",
            "Name: INCOME, dtype: float64\n",
            "\n",
            "===========MILEAGE============\n",
            "count    29904.000000\n",
            "mean        11.803395\n",
            "std          5.744523\n",
            "min          0.000000\n",
            "25%          7.775750\n",
            "50%         12.536500\n",
            "75%         16.193250\n",
            "max         94.640000\n",
            "Name: MILEAGE, dtype: float64\n",
            "\n",
            "===========NUMTR============\n",
            "count    29904.000000\n",
            "mean         0.763343\n",
            "std          1.143284\n",
            "min          0.000000\n",
            "25%          0.000000\n",
            "50%          0.000000\n",
            "75%          1.000000\n",
            "max          7.000000\n",
            "Name: NUMTR, dtype: float64\n",
            "\n"
          ]
        }
      ],
      "source": [
        "for num in numerical:\n",
        "  print(\"===========\"+num+\"============\")\n",
        "  print(email_data[num].describe())\n",
        "  print()"
      ]
    },
    {
      "cell_type": "code",
      "execution_count": null,
      "metadata": {
        "colab": {
          "base_uri": "https://localhost:8080/"
        },
        "id": "8sxWu1EDiRn5",
        "outputId": "a935a37a-21a5-45e9-fff7-7860e263eb41"
      },
      "outputs": [
        {
          "name": "stdout",
          "output_type": "stream",
          "text": [
            "===========AGE============\n"
          ]
        },
        {
          "data": {
            "image/png": "[encoded data removed]",
            "text/plain": [
              "<Figure size 432x288 with 1 Axes>"
            ]
          },
          "metadata": {
            "needs_background": "light"
          },
          "output_type": "display_data"
        },
        {
          "name": "stdout",
          "output_type": "stream",
          "text": [
            "\n",
            "===========CRED============\n"
          ]
        },
        {
          "data": {
            "image/png": "[encoded data removed]",
            "text/plain": [
              "<Figure size 432x288 with 1 Axes>"
            ]
          },
          "metadata": {
            "needs_background": "light"
          },
          "output_type": "display_data"
        },
        {
          "name": "stdout",
          "output_type": "stream",
          "text": [
            "\n",
            "===========HEQ============\n"
          ]
        },
        {
          "data": {
            "image/png": "[encoded data removed]",
            "text/plain": [
              "<Figure size 432x288 with 1 Axes>"
            ]
          },
          "metadata": {
            "needs_background": "light"
          },
          "output_type": "display_data"
        },
        {
          "name": "stdout",
          "output_type": "stream",
          "text": [
            "\n",
            "===========INCOME============\n"
          ]
        },
        {
          "data": {
            "image/png": "[encoded data removed]",
            "text/plain": [
              "<Figure size 432x288 with 1 Axes>"
            ]
          },
          "metadata": {
            "needs_background": "light"
          },
          "output_type": "display_data"
        },
        {
          "name": "stdout",
          "output_type": "stream",
          "text": [
            "\n",
            "===========MILEAGE============\n"
          ]
        },
        {
          "data": {
            "image/png": "[encoded data removed]",
            "text/plain": [
              "<Figure size 432x288 with 1 Axes>"
            ]
          },
          "metadata": {
            "needs_background": "light"
          },
          "output_type": "display_data"
        },
        {
          "name": "stdout",
          "output_type": "stream",
          "text": [
            "\n",
            "===========NUMTR============\n"
          ]
        },
        {
          "data": {
            "image/png": "[encoded data removed]",
            "text/plain": [
              "<Figure size 432x288 with 1 Axes>"
            ]
          },
          "metadata": {
            "needs_background": "light"
          },
          "output_type": "display_data"
        },
        {
          "name": "stdout",
          "output_type": "stream",
          "text": [
            "\n"
          ]
        }
      ],
      "source": [
        "for num in numerical:\n",
        "  print(\"===========\"+num+\"============\")\n",
        "  plt.hist(email_data[num],edgecolor='black')\n",
        "  plt.show()\n",
        "  print()"
      ]
    },
    {
      "cell_type": "markdown",
      "metadata": {
        "id": "Y_MgEBkTAfdk"
      },
      "source": [
        "# 3) Perform Bi-variate Analysis with relation to the prediction column: `resp`"
      ]
    },
    {
      "cell_type": "markdown",
      "metadata": {
        "id": "haM9sPc2ApUL"
      },
      "source": [
        "### Bi-variate Visualization of Categorical variables:\n",
        "\n",
        "**HINT:** `sns.catplot()`\n"
      ]
    },
    {
      "cell_type": "code",
      "execution_count": null,
      "metadata": {
        "colab": {
          "base_uri": "https://localhost:8080/"
        },
        "id": "dqylbJ67V3aV",
        "outputId": "cba927e8-3828-4f67-c5ac-08f35ff6b567"
      },
      "outputs": [
        {
          "name": "stdout",
          "output_type": "stream",
          "text": [
            "===========MS============\n"
          ]
        },
        {
          "data": {
            "image/png": "[encoded data removed]",
            "text/plain": [
              "<Figure size 432x288 with 1 Axes>"
            ]
          },
          "metadata": {
            "needs_background": "light"
          },
          "output_type": "display_data"
        },
        {
          "name": "stdout",
          "output_type": "stream",
          "text": [
            "\n",
            "===========DEPC============\n"
          ]
        },
        {
          "data": {
            "image/png": "[encoded data removed]",
            "text/plain": [
              "<Figure size 432x288 with 1 Axes>"
            ]
          },
          "metadata": {
            "needs_background": "light"
          },
          "output_type": "display_data"
        },
        {
          "name": "stdout",
          "output_type": "stream",
          "text": [
            "\n",
            "===========MOB============\n"
          ]
        },
        {
          "data": {
            "image/png": "[encoded data removed]",
            "text/plain": [
              "<Figure size 432x288 with 1 Axes>"
            ]
          },
          "metadata": {
            "needs_background": "light"
          },
          "output_type": "display_data"
        },
        {
          "name": "stdout",
          "output_type": "stream",
          "text": [
            "\n",
            "===========RESTYPE============\n"
          ]
        },
        {
          "data": {
            "image/png": "[encoded data removed]",
            "text/plain": [
              "<Figure size 432x288 with 1 Axes>"
            ]
          },
          "metadata": {
            "needs_background": "light"
          },
          "output_type": "display_data"
        },
        {
          "name": "stdout",
          "output_type": "stream",
          "text": [
            "\n",
            "===========GENDER============\n"
          ]
        },
        {
          "data": {
            "image/png": "[encoded data removed]",
            "text/plain": [
              "<Figure size 432x288 with 1 Axes>"
            ]
          },
          "metadata": {
            "needs_background": "light"
          },
          "output_type": "display_data"
        },
        {
          "name": "stdout",
          "output_type": "stream",
          "text": [
            "\n",
            "===========EMP_STA============\n"
          ]
        },
        {
          "data": {
            "image/png": "[encoded data removed]",
            "text/plain": [
              "<Figure size 432x288 with 1 Axes>"
            ]
          },
          "metadata": {
            "needs_background": "light"
          },
          "output_type": "display_data"
        },
        {
          "name": "stdout",
          "output_type": "stream",
          "text": [
            "\n",
            "===========RES_STA============\n"
          ]
        },
        {
          "data": {
            "image/png": "[encoded data removed]",
            "text/plain": [
              "<Figure size 432x288 with 1 Axes>"
            ]
          },
          "metadata": {
            "needs_background": "light"
          },
          "output_type": "display_data"
        },
        {
          "name": "stdout",
          "output_type": "stream",
          "text": [
            "\n",
            "===========DELINQ============\n"
          ]
        },
        {
          "data": {
            "image/png": "[encoded data removed]",
            "text/plain": [
              "<Figure size 432x288 with 1 Axes>"
            ]
          },
          "metadata": {
            "needs_background": "light"
          },
          "output_type": "display_data"
        },
        {
          "name": "stdout",
          "output_type": "stream",
          "text": [
            "\n",
            "===========MRTGI============\n"
          ]
        },
        {
          "data": {
            "image/png": "[encoded data removed]",
            "text/plain": [
              "<Figure size 432x288 with 1 Axes>"
            ]
          },
          "metadata": {
            "needs_background": "light"
          },
          "output_type": "display_data"
        },
        {
          "name": "stdout",
          "output_type": "stream",
          "text": [
            "\n",
            "===========MFDU============\n"
          ]
        },
        {
          "data": {
            "image/png": "[encoded data removed]",
            "text/plain": [
              "<Figure size 432x288 with 1 Axes>"
            ]
          },
          "metadata": {
            "needs_background": "light"
          },
          "output_type": "display_data"
        },
        {
          "name": "stdout",
          "output_type": "stream",
          "text": [
            "\n"
          ]
        }
      ],
      "source": [
        "# Write your code here\n",
        "for cat in categorical:\n",
        "  print(\"===========\"+cat+\"============\")\n",
        "  sns.violinplot(data=email_data,x='resp',y=cat)\n",
        "  plt.show()\n",
        "  print()"
      ]
    },
    {
      "cell_type": "markdown",
      "metadata": {
        "id": "jyGzmUFRVyrq"
      },
      "source": [
        "### Bi-variate Visualization of Numerical variables:\n",
        "\n",
        "**HINT:** You may want to use `sns.boxplot()`\n"
      ]
    },
    {
      "cell_type": "code",
      "execution_count": null,
      "metadata": {
        "colab": {
          "base_uri": "https://localhost:8080/"
        },
        "id": "8RO7L-7gG4So",
        "outputId": "967571be-8e72-4021-cec9-7a07e0f28b9e"
      },
      "outputs": [
        {
          "name": "stdout",
          "output_type": "stream",
          "text": [
            "===========AGE============\n"
          ]
        },
        {
          "data": {
            "image/png": "[encoded data removed]",
            "text/plain": [
              "<Figure size 432x288 with 1 Axes>"
            ]
          },
          "metadata": {
            "needs_background": "light"
          },
          "output_type": "display_data"
        },
        {
          "name": "stdout",
          "output_type": "stream",
          "text": [
            "\n",
            "===========CRED============\n"
          ]
        },
        {
          "data": {
            "image/png": "[encoded data removed]",
            "text/plain": [
              "<Figure size 432x288 with 1 Axes>"
            ]
          },
          "metadata": {
            "needs_background": "light"
          },
          "output_type": "display_data"
        },
        {
          "name": "stdout",
          "output_type": "stream",
          "text": [
            "\n",
            "===========HEQ============\n"
          ]
        },
        {
          "data": {
            "image/png": "[encoded data removed]",
            "text/plain": [
              "<Figure size 432x288 with 1 Axes>"
            ]
          },
          "metadata": {
            "needs_background": "light"
          },
          "output_type": "display_data"
        },
        {
          "name": "stdout",
          "output_type": "stream",
          "text": [
            "\n",
            "===========INCOME============\n"
          ]
        },
        {
          "data": {
            "image/png": "[encoded data removed]",
            "text/plain": [
              "<Figure size 432x288 with 1 Axes>"
            ]
          },
          "metadata": {
            "needs_background": "light"
          },
          "output_type": "display_data"
        },
        {
          "name": "stdout",
          "output_type": "stream",
          "text": [
            "\n",
            "===========MILEAGE============\n"
          ]
        },
        {
          "data": {
            "image/png": "[encoded data removed]",
            "text/plain": [
              "<Figure size 432x288 with 1 Axes>"
            ]
          },
          "metadata": {
            "needs_background": "light"
          },
          "output_type": "display_data"
        },
        {
          "name": "stdout",
          "output_type": "stream",
          "text": [
            "\n",
            "===========NUMTR============\n"
          ]
        },
        {
          "data": {
            "image/png": "[encoded data removed]",
            "text/plain": [
              "<Figure size 432x288 with 1 Axes>"
            ]
          },
          "metadata": {
            "needs_background": "light"
          },
          "output_type": "display_data"
        },
        {
          "name": "stdout",
          "output_type": "stream",
          "text": [
            "\n"
          ]
        }
      ],
      "source": [
        "# Write your code here\n",
        "for num in numerical:\n",
        "  print(\"===========\"+num+\"============\")\n",
        "  sns.boxplot(x='resp', y=num, data=email_data)\n",
        "  plt.show()\n",
        "  print()\n"
      ]
    },
    {
      "cell_type": "markdown",
      "metadata": {
        "id": "cqkPusx6yAPC"
      },
      "source": [
        "# Part2: Data Cleaning and Preparation:\n",
        "\n",
        "Check the categorical variables, we need to convert them into numerical columns.\n",
        "\n",
        "4. Find a variable with missing value/Outliers and treat accordingly\n",
        "\n",
        "5. Convert categorical columns into numerical using binary mapping or using dummy columns, as required:\n",
        "  * Use `pd.get_dummies()` to create dummy columns for: `Fuel_Type`\n",
        "  * **Map** `Transmission` and `Seller_Type`'s categories to `0` and `1`\n",
        "\n",
        "6. Concatenate the dummy columns with the main data and clean it\n",
        "  * Drop the **Parent columns of dummy columns** from dataframe"
      ]
    },
    {
      "cell_type": "markdown",
      "metadata": {
        "id": "UV_kfnjGZn2N"
      },
      "source": [
        "# 4) Handle Missing Values and Outliers"
      ]
    },
    {
      "cell_type": "markdown",
      "metadata": {
        "id": "t0JVgHzKZ-oP"
      },
      "source": [
        "**HINT:** there is only one column with missing values"
      ]
    },
    {
      "cell_type": "code",
      "execution_count": null,
      "metadata": {
        "colab": {
          "base_uri": "https://localhost:8080/"
        },
        "id": "4q74IcDaaDbF",
        "outputId": "25139a2f-2634-4811-bfc0-8ff76ab831e1"
      },
      "outputs": [
        {
          "data": {
            "text/plain": [
              "AGE         0\n",
              "CRED       33\n",
              "MS          0\n",
              "HEQ         0\n",
              "INCOME      0\n",
              "DEPC        0\n",
              "MOB         0\n",
              "MILEAGE     0\n",
              "RESTYPE     0\n",
              "GENDER      0\n",
              "EMP_STA     0\n",
              "RES_STA     0\n",
              "DELINQ      0\n",
              "NUMTR       0\n",
              "MRTGI       0\n",
              "MFDU        0\n",
              "resp        0\n",
              "dtype: int64"
            ]
          },
          "execution_count": 14,
          "metadata": {},
          "output_type": "execute_result"
        }
      ],
      "source": [
        "# Write your code here\n",
        "email_data.isnull().sum()"
      ]
    },
    {
      "cell_type": "code",
      "execution_count": null,
      "metadata": {
        "colab": {
          "base_uri": "https://localhost:8080/"
        },
        "id": "lhmZXGd6FK4q",
        "outputId": "b7470b8d-c99c-4f49-a72f-e3672ae8cc65"
      },
      "outputs": [
        {
          "data": {
            "text/plain": [
              "0.11035313001605136"
            ]
          },
          "execution_count": 15,
          "metadata": {},
          "output_type": "execute_result"
        }
      ],
      "source": [
        "email_data.CRED.isnull().sum()*100/email_data.shape[0]"
      ]
    },
    {
      "cell_type": "code",
      "execution_count": null,
      "metadata": {
        "id": "Vuaz6uL5ooCw"
      },
      "outputs": [],
      "source": [
        "email_CRED_median=email_data.CRED.median()"
      ]
    },
    {
      "cell_type": "code",
      "execution_count": null,
      "metadata": {
        "id": "uj_5pV78MJ6I"
      },
      "outputs": [],
      "source": [
        "email_data['CRED_TEMP']=email_data['CRED']"
      ]
    },
    {
      "cell_type": "code",
      "execution_count": null,
      "metadata": {
        "id": "REKlY87jo6s4"
      },
      "outputs": [],
      "source": [
        "email_data['CRED_TEMP'].fillna(email_CRED_median, inplace=True)"
      ]
    },
    {
      "cell_type": "code",
      "execution_count": null,
      "metadata": {
        "colab": {
          "base_uri": "https://localhost:8080/"
        },
        "id": "bIeYjjdtp5Bc",
        "outputId": "05508a0f-a722-48a2-b743-663147ddd48c"
      },
      "outputs": [
        {
          "data": {
            "text/plain": [
              "0"
            ]
          },
          "execution_count": 19,
          "metadata": {},
          "output_type": "execute_result"
        }
      ],
      "source": [
        "email_data['CRED_TEMP'].isnull().sum()"
      ]
    },
    {
      "cell_type": "markdown",
      "metadata": {
        "id": "sBSfINFZrkQy"
      },
      "source": [
        "Finding outliers"
      ]
    },
    {
      "cell_type": "code",
      "execution_count": null,
      "metadata": {
        "colab": {
          "base_uri": "https://localhost:8080/",
          "height": 1000
        },
        "id": "qFsgTbUBrG0m",
        "outputId": "acb86ef6-2fb3-4f70-95f0-5195580e769e"
      },
      "outputs": [
        {
          "name": "stdout",
          "output_type": "stream",
          "text": [
            "===========AGE============\n"
          ]
        },
        {
          "data": {
            "image/png": "[encoded data removed]",
            "text/plain": [
              "<Figure size 432x288 with 1 Axes>"
            ]
          },
          "metadata": {
            "needs_background": "light"
          },
          "output_type": "display_data"
        },
        {
          "name": "stdout",
          "output_type": "stream",
          "text": [
            "\n",
            "===========CRED============\n"
          ]
        },
        {
          "data": {
            "image/png": "[encoded data removed]",
            "text/plain": [
              "<Figure size 432x288 with 1 Axes>"
            ]
          },
          "metadata": {
            "needs_background": "light"
          },
          "output_type": "display_data"
        },
        {
          "name": "stdout",
          "output_type": "stream",
          "text": [
            "\n",
            "===========HEQ============\n"
          ]
        },
        {
          "data": {
            "image/png": "[encoded data removed]",
            "text/plain": [
              "<Figure size 432x288 with 1 Axes>"
            ]
          },
          "metadata": {
            "needs_background": "light"
          },
          "output_type": "display_data"
        },
        {
          "name": "stdout",
          "output_type": "stream",
          "text": [
            "\n",
            "===========INCOME============\n"
          ]
        },
        {
          "data": {
            "image/png": "[encoded data removed]",
            "text/plain": [
              "<Figure size 432x288 with 1 Axes>"
            ]
          },
          "metadata": {
            "needs_background": "light"
          },
          "output_type": "display_data"
        },
        {
          "name": "stdout",
          "output_type": "stream",
          "text": [
            "\n",
            "===========MILEAGE============\n"
          ]
        },
        {
          "data": {
            "image/png": "[encoded data removed]",
            "text/plain": [
              "<Figure size 432x288 with 1 Axes>"
            ]
          },
          "metadata": {
            "needs_background": "light"
          },
          "output_type": "display_data"
        },
        {
          "name": "stdout",
          "output_type": "stream",
          "text": [
            "\n",
            "===========NUMTR============\n"
          ]
        },
        {
          "data": {
            "image/png": "[encoded data removed]",
            "text/plain": [
              "<Figure size 432x288 with 1 Axes>"
            ]
          },
          "metadata": {
            "needs_background": "light"
          },
          "output_type": "display_data"
        },
        {
          "name": "stdout",
          "output_type": "stream",
          "text": [
            "\n"
          ]
        }
      ],
      "source": [
        "for num in numerical:\n",
        "  print(\"===========\"+num+\"============\")\n",
        "  sns.boxplot(y=num, data=email_data)\n",
        "  plt.show()\n",
        "  print()"
      ]
    },
    {
      "cell_type": "markdown",
      "metadata": {
        "id": "N-QPoJi8QsFX"
      },
      "source": [
        "Treating outliers"
      ]
    },
    {
      "cell_type": "code",
      "execution_count": null,
      "metadata": {
        "id": "jHRwRKexQuwE"
      },
      "outputs": [],
      "source": [
        "email_data['AGE_TEMP']=email_data['AGE']"
      ]
    },
    {
      "cell_type": "code",
      "execution_count": null,
      "metadata": {
        "colab": {
          "base_uri": "https://localhost:8080/"
        },
        "id": "z8IBOAcwGUK3",
        "outputId": "6032c90b-27a8-4e59-fba0-8ce70f790f5c"
      },
      "outputs": [
        {
          "data": {
            "text/plain": [
              "14.15864098448368"
            ]
          },
          "execution_count": 22,
          "metadata": {},
          "output_type": "execute_result"
        }
      ],
      "source": [
        "len(email_data.AGE[email_data.AGE>65])*100/len(email_data)"
      ]
    },
    {
      "cell_type": "code",
      "execution_count": null,
      "metadata": {
        "colab": {
          "base_uri": "https://localhost:8080/"
        },
        "id": "2Ud_vcWql20m",
        "outputId": "c9dd7273-cc19-4c88-f7de-15bc0c94c7d8"
      },
      "outputs": [
        {
          "name": "stderr",
          "output_type": "stream",
          "text": [
            "/usr/local/lib/python3.7/dist-packages/ipykernel_launcher.py:1: SettingWithCopyWarning: \n",
            "A value is trying to be set on a copy of a slice from a DataFrame\n",
            "\n",
            "See the caveats in the documentation: https://pandas.pydata.org/pandas-docs/stable/user_guide/indexing.html#returning-a-view-versus-a-copy\n",
            "  \"\"\"Entry point for launching an IPython kernel.\n"
          ]
        },
        {
          "data": {
            "text/plain": [
              "count    29904.000000\n",
              "mean        45.876438\n",
              "std         11.671206\n",
              "min         18.000000\n",
              "25%         36.000000\n",
              "50%         50.000000\n",
              "75%         55.000000\n",
              "max         65.000000\n",
              "Name: AGE_TEMP, dtype: float64"
            ]
          },
          "execution_count": 23,
          "metadata": {},
          "output_type": "execute_result"
        }
      ],
      "source": [
        "email_data['AGE_TEMP'][email_data['AGE_TEMP']>65]=email_data['AGE'].median()\n",
        "email_data['AGE_TEMP'].describe()"
      ]
    },
    {
      "cell_type": "markdown",
      "metadata": {
        "id": "E2o1mRYFmq9w"
      },
      "source": [
        "Outlier for CRED"
      ]
    },
    {
      "cell_type": "code",
      "execution_count": null,
      "metadata": {
        "colab": {
          "base_uri": "https://localhost:8080/"
        },
        "id": "fujJmKv3mqkT",
        "outputId": "a6a612bc-77f7-4df1-c8ea-62bc6e1731cb"
      },
      "outputs": [
        {
          "data": {
            "text/plain": [
              "8.617576243980738"
            ]
          },
          "execution_count": 24,
          "metadata": {},
          "output_type": "execute_result"
        }
      ],
      "source": [
        "len(email_data[email_data['CRED']<450])*100/len(email_data)"
      ]
    },
    {
      "cell_type": "code",
      "execution_count": null,
      "metadata": {
        "colab": {
          "base_uri": "https://localhost:8080/"
        },
        "id": "YseH3NgxCb7Z",
        "outputId": "e673607a-00d7-4e2e-f686-61027a767f5f"
      },
      "outputs": [
        {
          "data": {
            "text/plain": [
              "33"
            ]
          },
          "execution_count": 25,
          "metadata": {},
          "output_type": "execute_result"
        }
      ],
      "source": [
        "email_data['CRED'].isnull().sum()"
      ]
    },
    {
      "cell_type": "code",
      "execution_count": null,
      "metadata": {
        "id": "JKQ0Pe9eGJ71"
      },
      "outputs": [],
      "source": [
        "email_data['CRED'].fillna(email_data['CRED'].median(), inplace=True)"
      ]
    },
    {
      "cell_type": "code",
      "execution_count": null,
      "metadata": {
        "colab": {
          "base_uri": "https://localhost:8080/"
        },
        "id": "zuo3XeDzGgBS",
        "outputId": "777a4133-9179-41e8-8260-ae835ac5fcd7"
      },
      "outputs": [
        {
          "data": {
            "text/plain": [
              "0"
            ]
          },
          "execution_count": 27,
          "metadata": {},
          "output_type": "execute_result"
        }
      ],
      "source": [
        "email_data['CRED'].isnull().sum()"
      ]
    },
    {
      "cell_type": "code",
      "execution_count": null,
      "metadata": {
        "id": "eaF7Da_PBnYd"
      },
      "outputs": [],
      "source": [
        "email_data['CRED'] = np.where(email_data['CRED'] < 450, email_data['CRED'].median(), email_data['CRED'])"
      ]
    },
    {
      "cell_type": "code",
      "execution_count": null,
      "metadata": {
        "colab": {
          "base_uri": "https://localhost:8080/"
        },
        "id": "5AzMQQHfnld7",
        "outputId": "ceaeb0ad-44e4-4899-89c2-f559030c3b40"
      },
      "outputs": [
        {
          "data": {
            "text/plain": [
              "count    29904.000000\n",
              "mean       624.508661\n",
              "std         67.313116\n",
              "min        450.000000\n",
              "25%        594.000000\n",
              "50%        617.000000\n",
              "75%        652.000000\n",
              "max       1789.000000\n",
              "Name: CRED, dtype: float64"
            ]
          },
          "execution_count": 29,
          "metadata": {},
          "output_type": "execute_result"
        }
      ],
      "source": [
        "email_data['CRED'].describe()"
      ]
    },
    {
      "cell_type": "markdown",
      "metadata": {
        "id": "PWho24jnoWHz"
      },
      "source": [
        "Outlier treatment for HEQ"
      ]
    },
    {
      "cell_type": "code",
      "execution_count": null,
      "metadata": {
        "colab": {
          "base_uri": "https://localhost:8080/"
        },
        "id": "f84kyanAoVAN",
        "outputId": "b72862c2-b455-4326-90c2-8efe3005818c"
      },
      "outputs": [
        {
          "data": {
            "text/plain": [
              "3.006286784376672"
            ]
          },
          "execution_count": 30,
          "metadata": {},
          "output_type": "execute_result"
        }
      ],
      "source": [
        "(email_data['HEQ']>100).sum()*100/len(email_data)"
      ]
    },
    {
      "cell_type": "code",
      "execution_count": null,
      "metadata": {
        "id": "Z0O2gIJipRUc"
      },
      "outputs": [],
      "source": [
        "email_data['HEQ_TEMP']=email_data['HEQ']"
      ]
    },
    {
      "cell_type": "code",
      "execution_count": null,
      "metadata": {
        "colab": {
          "base_uri": "https://localhost:8080/"
        },
        "id": "uhWCNhCApYQT",
        "outputId": "027547fc-ac3c-42e5-dbbf-a5ee483e9f1d"
      },
      "outputs": [
        {
          "name": "stderr",
          "output_type": "stream",
          "text": [
            "/usr/local/lib/python3.7/dist-packages/ipykernel_launcher.py:1: SettingWithCopyWarning: \n",
            "A value is trying to be set on a copy of a slice from a DataFrame.\n",
            "Try using .loc[row_indexer,col_indexer] = value instead\n",
            "\n",
            "See the caveats in the documentation: https://pandas.pydata.org/pandas-docs/stable/user_guide/indexing.html#returning-a-view-versus-a-copy\n",
            "  \"\"\"Entry point for launching an IPython kernel.\n"
          ]
        },
        {
          "data": {
            "text/plain": [
              "count    29904.000000\n",
              "mean        38.328892\n",
              "std         37.205701\n",
              "min          0.100000\n",
              "25%         10.000000\n",
              "50%         30.000000\n",
              "75%         50.000000\n",
              "max        200.000000\n",
              "Name: HEQ_TEMP, dtype: float64"
            ]
          },
          "execution_count": 32,
          "metadata": {},
          "output_type": "execute_result"
        }
      ],
      "source": [
        "email_data[email_data['HEQ_TEMP']>100]['HEQ_TEMP']=email_data['HEQ'].median()\n",
        "email_data['HEQ_TEMP'].describe()"
      ]
    },
    {
      "cell_type": "markdown",
      "metadata": {
        "id": "xTtkpH-XqO5T"
      },
      "source": [
        "Outlier treatment for Income"
      ]
    },
    {
      "cell_type": "code",
      "execution_count": null,
      "metadata": {
        "colab": {
          "base_uri": "https://localhost:8080/"
        },
        "id": "j7KuwYdhqN2I",
        "outputId": "7a7af04f-3886-490e-ee11-e64847065079"
      },
      "outputs": [
        {
          "data": {
            "text/plain": [
              "1.621856607811664"
            ]
          },
          "execution_count": 33,
          "metadata": {},
          "output_type": "execute_result"
        }
      ],
      "source": [
        "(email_data['INCOME']>80).sum()*100/len(email_data)"
      ]
    },
    {
      "cell_type": "code",
      "execution_count": null,
      "metadata": {
        "colab": {
          "base_uri": "https://localhost:8080/"
        },
        "id": "rx3fnoglqxOs",
        "outputId": "cd502d20-4b2a-4b2d-c240-f955d588d40b"
      },
      "outputs": [
        {
          "data": {
            "text/plain": [
              "count    29904.000000\n",
              "mean        40.225388\n",
              "std         12.678951\n",
              "min         20.000000\n",
              "25%         30.000000\n",
              "50%         40.000000\n",
              "75%         50.000000\n",
              "max         70.000000\n",
              "Name: INCOME, dtype: float64"
            ]
          },
          "execution_count": 34,
          "metadata": {},
          "output_type": "execute_result"
        }
      ],
      "source": [
        "email_data['INCOME'] = np.where(email_data['INCOME'] > 100, email_data['INCOME'].median(), email_data['INCOME'])\n",
        "email_data['INCOME'].describe()"
      ]
    },
    {
      "cell_type": "markdown",
      "metadata": {
        "id": "pOoUb2nprIv_"
      },
      "source": [
        "Outlier treatment for Mileage"
      ]
    },
    {
      "cell_type": "code",
      "execution_count": null,
      "metadata": {
        "colab": {
          "base_uri": "https://localhost:8080/"
        },
        "id": "xn51iMhZrIaI",
        "outputId": "b347850b-8460-4a0b-96ad-05a78df5dc02"
      },
      "outputs": [
        {
          "data": {
            "text/plain": [
              "0.08694489031567683"
            ]
          },
          "execution_count": 35,
          "metadata": {},
          "output_type": "execute_result"
        }
      ],
      "source": [
        "(email_data['MILEAGE']>30).sum()*100/len(email_data)"
      ]
    },
    {
      "cell_type": "code",
      "execution_count": null,
      "metadata": {
        "colab": {
          "base_uri": "https://localhost:8080/"
        },
        "id": "Eir8fngfsAl-",
        "outputId": "87d78b05-3a5c-4b71-9edf-9f333b9839fd"
      },
      "outputs": [
        {
          "data": {
            "text/plain": [
              "count    29904.000000\n",
              "mean        11.757857\n",
              "std          5.498993\n",
              "min          0.000000\n",
              "25%          7.775750\n",
              "50%         12.536250\n",
              "75%         16.182000\n",
              "max         29.993000\n",
              "Name: MILEAGE, dtype: float64"
            ]
          },
          "execution_count": 36,
          "metadata": {},
          "output_type": "execute_result"
        }
      ],
      "source": [
        "email_data['MILEAGE'] = np.where(email_data['MILEAGE'] > 30, email_data['MILEAGE'].median(), email_data['MILEAGE'])\n",
        "email_data['MILEAGE'].describe()"
      ]
    },
    {
      "cell_type": "markdown",
      "metadata": {
        "id": "u6KxvbsDsTIq"
      },
      "source": [
        "Outlier treatment for NUMTR"
      ]
    },
    {
      "cell_type": "code",
      "execution_count": null,
      "metadata": {
        "colab": {
          "base_uri": "https://localhost:8080/"
        },
        "id": "Qu1aN7Hpr8jU",
        "outputId": "602db388-e70d-42e9-d734-38c29d5a20ba"
      },
      "outputs": [
        {
          "data": {
            "text/plain": [
              "10.557116104868914"
            ]
          },
          "execution_count": 37,
          "metadata": {},
          "output_type": "execute_result"
        }
      ],
      "source": [
        "(email_data['NUMTR']>2).sum()*100/len(email_data)"
      ]
    },
    {
      "cell_type": "code",
      "execution_count": null,
      "metadata": {
        "colab": {
          "base_uri": "https://localhost:8080/"
        },
        "id": "tiLBuCMSsRcf",
        "outputId": "7f85ee11-eee5-48c2-e19f-d289362d4d78"
      },
      "outputs": [
        {
          "data": {
            "text/plain": [
              "count    29904.000000\n",
              "mean         0.401786\n",
              "std          0.666399\n",
              "min          0.000000\n",
              "25%          0.000000\n",
              "50%          0.000000\n",
              "75%          1.000000\n",
              "max          2.000000\n",
              "Name: NUMTR, dtype: float64"
            ]
          },
          "execution_count": 38,
          "metadata": {},
          "output_type": "execute_result"
        }
      ],
      "source": [
        "email_data['NUMTR'] = np.where(email_data['NUMTR'] > 2, email_data['NUMTR'].median(), email_data['NUMTR'])\n",
        "email_data['NUMTR'].describe()"
      ]
    },
    {
      "cell_type": "code",
      "execution_count": null,
      "metadata": {
        "colab": {
          "base_uri": "https://localhost:8080/",
          "height": 331
        },
        "id": "YwR5zGr752ou",
        "outputId": "f0669630-c7e4-4a4b-9d2a-cb0b66aead60"
      },
      "outputs": [
        {
          "data": {
            "text/html": [
              "\n",
              "  <div id=\"df-d3acc51c-3f85-43bb-8262-d043a196f657\">\n",
              "    <div class=\"colab-df-container\">\n",
              "      <div>\n",
              "<style scoped>\n",
              "    .dataframe tbody tr th:only-of-type {\n",
              "        vertical-align: middle;\n",
              "    }\n",
              "\n",
              "    .dataframe tbody tr th {\n",
              "        vertical-align: top;\n",
              "    }\n",
              "\n",
              "    .dataframe thead th {\n",
              "        text-align: right;\n",
              "    }\n",
              "</style>\n",
              "<table border=\"1\" class=\"dataframe\">\n",
              "  <thead>\n",
              "    <tr style=\"text-align: right;\">\n",
              "      <th>resp</th>\n",
              "      <th>0</th>\n",
              "      <th>1</th>\n",
              "    </tr>\n",
              "    <tr>\n",
              "      <th>DELINQ</th>\n",
              "      <th></th>\n",
              "      <th></th>\n",
              "    </tr>\n",
              "  </thead>\n",
              "  <tbody>\n",
              "    <tr>\n",
              "      <th>0</th>\n",
              "      <td>16093</td>\n",
              "      <td>1595</td>\n",
              "    </tr>\n",
              "    <tr>\n",
              "      <th>1</th>\n",
              "      <td>5387</td>\n",
              "      <td>604</td>\n",
              "    </tr>\n",
              "    <tr>\n",
              "      <th>2</th>\n",
              "      <td>2760</td>\n",
              "      <td>324</td>\n",
              "    </tr>\n",
              "    <tr>\n",
              "      <th>3</th>\n",
              "      <td>1775</td>\n",
              "      <td>209</td>\n",
              "    </tr>\n",
              "    <tr>\n",
              "      <th>4</th>\n",
              "      <td>954</td>\n",
              "      <td>117</td>\n",
              "    </tr>\n",
              "    <tr>\n",
              "      <th>5</th>\n",
              "      <td>26</td>\n",
              "      <td>3</td>\n",
              "    </tr>\n",
              "    <tr>\n",
              "      <th>6</th>\n",
              "      <td>24</td>\n",
              "      <td>4</td>\n",
              "    </tr>\n",
              "    <tr>\n",
              "      <th>7</th>\n",
              "      <td>28</td>\n",
              "      <td>1</td>\n",
              "    </tr>\n",
              "  </tbody>\n",
              "</table>\n",
              "</div>\n",
              "      <button class=\"colab-df-convert\" onclick=\"convertToInteractive('df-d3acc51c-3f85-43bb-8262-d043a196f657')\"\n",
              "              title=\"Convert this dataframe to an interactive table.\"\n",
              "              style=\"display:none;\">\n",
              "        \n",
              "  <svg xmlns=\"http://www.w3.org/2000/svg\" height=\"24px\"viewBox=\"0 0 24 24\"\n",
              "       width=\"24px\">\n",
              "    <path d=\"M0 0h24v24H0V0z\" fill=\"none\"/>\n",
              "    <path d=\"M18.56 5.44l.94 2.06.94-2.06 2.06-.94-2.06-.94-.94-2.06-.94 2.06-2.06.94zm-11 1L8.5 8.5l.94-2.06 2.06-.94-2.06-.94L8.5 2.5l-.94 2.06-2.06.94zm10 10l.94 2.06.94-2.06 2.06-.94-2.06-.94-.94-2.06-.94 2.06-2.06.94z\"/><path d=\"M17.41 7.96l-1.37-1.37c-.4-.4-.92-.59-1.43-.59-.52 0-1.04.2-1.43.59L10.3 9.45l-7.72 7.72c-.78.78-.78 2.05 0 2.83L4 21.41c.39.39.9.59 1.41.59.51 0 1.02-.2 1.41-.59l7.78-7.78 2.81-2.81c.8-.78.8-2.07 0-2.86zM5.41 20L4 18.59l7.72-7.72 1.47 1.35L5.41 20z\"/>\n",
              "  </svg>\n",
              "      </button>\n",
              "      \n",
              "  <style>\n",
              "    .colab-df-container {\n",
              "      display:flex;\n",
              "      flex-wrap:wrap;\n",
              "      gap: 12px;\n",
              "    }\n",
              "\n",
              "    .colab-df-convert {\n",
              "      background-color: #E8F0FE;\n",
              "      border: none;\n",
              "      border-radius: 50%;\n",
              "      cursor: pointer;\n",
              "      display: none;\n",
              "      fill: #1967D2;\n",
              "      height: 32px;\n",
              "      padding: 0 0 0 0;\n",
              "      width: 32px;\n",
              "    }\n",
              "\n",
              "    .colab-df-convert:hover {\n",
              "      background-color: #E2EBFA;\n",
              "      box-shadow: 0px 1px 2px rgba(60, 64, 67, 0.3), 0px 1px 3px 1px rgba(60, 64, 67, 0.15);\n",
              "      fill: #174EA6;\n",
              "    }\n",
              "\n",
              "    [theme=dark] .colab-df-convert {\n",
              "      background-color: #3B4455;\n",
              "      fill: #D2E3FC;\n",
              "    }\n",
              "\n",
              "    [theme=dark] .colab-df-convert:hover {\n",
              "      background-color: #434B5C;\n",
              "      box-shadow: 0px 1px 3px 1px rgba(0, 0, 0, 0.15);\n",
              "      filter: drop-shadow(0px 1px 2px rgba(0, 0, 0, 0.3));\n",
              "      fill: #FFFFFF;\n",
              "    }\n",
              "  </style>\n",
              "\n",
              "      <script>\n",
              "        const buttonEl =\n",
              "          document.querySelector('#df-d3acc51c-3f85-43bb-8262-d043a196f657 button.colab-df-convert');\n",
              "        buttonEl.style.display =\n",
              "          google.colab.kernel.accessAllowed ? 'block' : 'none';\n",
              "\n",
              "        async function convertToInteractive(key) {\n",
              "          const element = document.querySelector('#df-d3acc51c-3f85-43bb-8262-d043a196f657');\n",
              "          const dataTable =\n",
              "            await google.colab.kernel.invokeFunction('convertToInteractive',\n",
              "                                                     [key], {});\n",
              "          if (!dataTable) return;\n",
              "\n",
              "          const docLinkHtml = 'Like what you see? Visit the ' +\n",
              "            '<a target=\"_blank\" href=https://colab.research.google.com/notebooks/data_table.ipynb>data table notebook</a>'\n",
              "            + ' to learn more about interactive tables.';\n",
              "          element.innerHTML = '';\n",
              "          dataTable['output_type'] = 'display_data';\n",
              "          await google.colab.output.renderOutput(dataTable, element);\n",
              "          const docLink = document.createElement('div');\n",
              "          docLink.innerHTML = docLinkHtml;\n",
              "          element.appendChild(docLink);\n",
              "        }\n",
              "      </script>\n",
              "    </div>\n",
              "  </div>\n",
              "  "
            ],
            "text/plain": [
              "resp        0     1\n",
              "DELINQ             \n",
              "0       16093  1595\n",
              "1        5387   604\n",
              "2        2760   324\n",
              "3        1775   209\n",
              "4         954   117\n",
              "5          26     3\n",
              "6          24     4\n",
              "7          28     1"
            ]
          },
          "execution_count": 39,
          "metadata": {},
          "output_type": "execute_result"
        }
      ],
      "source": [
        "cross_delinq=pd.crosstab(email_data['DELINQ'],email_data['resp'])\n",
        "cross_delinq"
      ]
    },
    {
      "cell_type": "code",
      "execution_count": null,
      "metadata": {
        "colab": {
          "base_uri": "https://localhost:8080/",
          "height": 331
        },
        "id": "jB2DTp8s6_BB",
        "outputId": "73b96d3c-9f3f-40a7-b346-5aea4315042c"
      },
      "outputs": [
        {
          "data": {
            "text/html": [
              "\n",
              "  <div id=\"df-90d81a05-918a-445e-bbc1-351dbd38ca34\">\n",
              "    <div class=\"colab-df-container\">\n",
              "      <div>\n",
              "<style scoped>\n",
              "    .dataframe tbody tr th:only-of-type {\n",
              "        vertical-align: middle;\n",
              "    }\n",
              "\n",
              "    .dataframe tbody tr th {\n",
              "        vertical-align: top;\n",
              "    }\n",
              "\n",
              "    .dataframe thead th {\n",
              "        text-align: right;\n",
              "    }\n",
              "</style>\n",
              "<table border=\"1\" class=\"dataframe\">\n",
              "  <thead>\n",
              "    <tr style=\"text-align: right;\">\n",
              "      <th>resp</th>\n",
              "      <th>0</th>\n",
              "      <th>1</th>\n",
              "    </tr>\n",
              "    <tr>\n",
              "      <th>DELINQ</th>\n",
              "      <th></th>\n",
              "      <th></th>\n",
              "    </tr>\n",
              "  </thead>\n",
              "  <tbody>\n",
              "    <tr>\n",
              "      <th>0</th>\n",
              "      <td>0.91</td>\n",
              "      <td>0.09</td>\n",
              "    </tr>\n",
              "    <tr>\n",
              "      <th>1</th>\n",
              "      <td>0.90</td>\n",
              "      <td>0.10</td>\n",
              "    </tr>\n",
              "    <tr>\n",
              "      <th>2</th>\n",
              "      <td>0.89</td>\n",
              "      <td>0.11</td>\n",
              "    </tr>\n",
              "    <tr>\n",
              "      <th>3</th>\n",
              "      <td>0.89</td>\n",
              "      <td>0.11</td>\n",
              "    </tr>\n",
              "    <tr>\n",
              "      <th>4</th>\n",
              "      <td>0.89</td>\n",
              "      <td>0.11</td>\n",
              "    </tr>\n",
              "    <tr>\n",
              "      <th>5</th>\n",
              "      <td>0.90</td>\n",
              "      <td>0.10</td>\n",
              "    </tr>\n",
              "    <tr>\n",
              "      <th>6</th>\n",
              "      <td>0.86</td>\n",
              "      <td>0.14</td>\n",
              "    </tr>\n",
              "    <tr>\n",
              "      <th>7</th>\n",
              "      <td>0.97</td>\n",
              "      <td>0.03</td>\n",
              "    </tr>\n",
              "  </tbody>\n",
              "</table>\n",
              "</div>\n",
              "      <button class=\"colab-df-convert\" onclick=\"convertToInteractive('df-90d81a05-918a-445e-bbc1-351dbd38ca34')\"\n",
              "              title=\"Convert this dataframe to an interactive table.\"\n",
              "              style=\"display:none;\">\n",
              "        \n",
              "  <svg xmlns=\"http://www.w3.org/2000/svg\" height=\"24px\"viewBox=\"0 0 24 24\"\n",
              "       width=\"24px\">\n",
              "    <path d=\"M0 0h24v24H0V0z\" fill=\"none\"/>\n",
              "    <path d=\"M18.56 5.44l.94 2.06.94-2.06 2.06-.94-2.06-.94-.94-2.06-.94 2.06-2.06.94zm-11 1L8.5 8.5l.94-2.06 2.06-.94-2.06-.94L8.5 2.5l-.94 2.06-2.06.94zm10 10l.94 2.06.94-2.06 2.06-.94-2.06-.94-.94-2.06-.94 2.06-2.06.94z\"/><path d=\"M17.41 7.96l-1.37-1.37c-.4-.4-.92-.59-1.43-.59-.52 0-1.04.2-1.43.59L10.3 9.45l-7.72 7.72c-.78.78-.78 2.05 0 2.83L4 21.41c.39.39.9.59 1.41.59.51 0 1.02-.2 1.41-.59l7.78-7.78 2.81-2.81c.8-.78.8-2.07 0-2.86zM5.41 20L4 18.59l7.72-7.72 1.47 1.35L5.41 20z\"/>\n",
              "  </svg>\n",
              "      </button>\n",
              "      \n",
              "  <style>\n",
              "    .colab-df-container {\n",
              "      display:flex;\n",
              "      flex-wrap:wrap;\n",
              "      gap: 12px;\n",
              "    }\n",
              "\n",
              "    .colab-df-convert {\n",
              "      background-color: #E8F0FE;\n",
              "      border: none;\n",
              "      border-radius: 50%;\n",
              "      cursor: pointer;\n",
              "      display: none;\n",
              "      fill: #1967D2;\n",
              "      height: 32px;\n",
              "      padding: 0 0 0 0;\n",
              "      width: 32px;\n",
              "    }\n",
              "\n",
              "    .colab-df-convert:hover {\n",
              "      background-color: #E2EBFA;\n",
              "      box-shadow: 0px 1px 2px rgba(60, 64, 67, 0.3), 0px 1px 3px 1px rgba(60, 64, 67, 0.15);\n",
              "      fill: #174EA6;\n",
              "    }\n",
              "\n",
              "    [theme=dark] .colab-df-convert {\n",
              "      background-color: #3B4455;\n",
              "      fill: #D2E3FC;\n",
              "    }\n",
              "\n",
              "    [theme=dark] .colab-df-convert:hover {\n",
              "      background-color: #434B5C;\n",
              "      box-shadow: 0px 1px 3px 1px rgba(0, 0, 0, 0.15);\n",
              "      filter: drop-shadow(0px 1px 2px rgba(0, 0, 0, 0.3));\n",
              "      fill: #FFFFFF;\n",
              "    }\n",
              "  </style>\n",
              "\n",
              "      <script>\n",
              "        const buttonEl =\n",
              "          document.querySelector('#df-90d81a05-918a-445e-bbc1-351dbd38ca34 button.colab-df-convert');\n",
              "        buttonEl.style.display =\n",
              "          google.colab.kernel.accessAllowed ? 'block' : 'none';\n",
              "\n",
              "        async function convertToInteractive(key) {\n",
              "          const element = document.querySelector('#df-90d81a05-918a-445e-bbc1-351dbd38ca34');\n",
              "          const dataTable =\n",
              "            await google.colab.kernel.invokeFunction('convertToInteractive',\n",
              "                                                     [key], {});\n",
              "          if (!dataTable) return;\n",
              "\n",
              "          const docLinkHtml = 'Like what you see? Visit the ' +\n",
              "            '<a target=\"_blank\" href=https://colab.research.google.com/notebooks/data_table.ipynb>data table notebook</a>'\n",
              "            + ' to learn more about interactive tables.';\n",
              "          element.innerHTML = '';\n",
              "          dataTable['output_type'] = 'display_data';\n",
              "          await google.colab.output.renderOutput(dataTable, element);\n",
              "          const docLink = document.createElement('div');\n",
              "          docLink.innerHTML = docLinkHtml;\n",
              "          element.appendChild(docLink);\n",
              "        }\n",
              "      </script>\n",
              "    </div>\n",
              "  </div>\n",
              "  "
            ],
            "text/plain": [
              "resp       0     1\n",
              "DELINQ            \n",
              "0       0.91  0.09\n",
              "1       0.90  0.10\n",
              "2       0.89  0.11\n",
              "3       0.89  0.11\n",
              "4       0.89  0.11\n",
              "5       0.90  0.10\n",
              "6       0.86  0.14\n",
              "7       0.97  0.03"
            ]
          },
          "execution_count": 40,
          "metadata": {},
          "output_type": "execute_result"
        }
      ],
      "source": [
        "#Cross tab row Percentages\n",
        "cross_delinq=cross_delinq.astype(float).div(cross_delinq.sum(axis=1), axis=0)\n",
        "round(cross_delinq,2)"
      ]
    },
    {
      "cell_type": "code",
      "execution_count": null,
      "metadata": {
        "colab": {
          "base_uri": "https://localhost:8080/"
        },
        "id": "YnCRBgn07T_A",
        "outputId": "a568c7b5-74d9-4115-ea77-b5adc0ecc527"
      },
      "outputs": [
        {
          "data": {
            "text/plain": [
              "0.0    17717\n",
              "1.0     6020\n",
              "2.0     3112\n",
              "3.0     1984\n",
              "4.0     1071\n",
              "Name: DELINQ, dtype: int64"
            ]
          },
          "execution_count": 41,
          "metadata": {},
          "output_type": "execute_result"
        }
      ],
      "source": [
        "i=[5.0,6.0,7.0]\n",
        "j=[1.0,2.0,0.0]\n",
        "email_data['DELINQ'].replace(i,j, inplace=True)\n",
        "email_data['DELINQ'].value_counts()"
      ]
    },
    {
      "cell_type": "code",
      "execution_count": null,
      "metadata": {
        "colab": {
          "base_uri": "https://localhost:8080/"
        },
        "id": "qwOfsJJvCEHj",
        "outputId": "fa51e382-fc34-42bd-8524-4a148d275134"
      },
      "outputs": [
        {
          "name": "stdout",
          "output_type": "stream",
          "text": [
            "0.0    17717\n",
            "1.0     6020\n",
            "2.0     3112\n",
            "3.0     1984\n",
            "4.0     1071\n",
            "Name: DELINQ, dtype: int64\n"
          ]
        }
      ],
      "source": [
        "print(email_data['DELINQ'].value_counts())\n"
      ]
    },
    {
      "cell_type": "markdown",
      "metadata": {
        "id": "z68gkdpSdXBI"
      },
      "source": [
        "\n",
        "\n",
        "\n",
        "\n",
        "\n",
        "\n",
        "\n",
        "\n",
        "\n",
        "\n",
        "\n",
        "\n",
        "\n",
        "\n",
        "\n",
        "\n",
        "\n",
        "\n",
        "\n",
        "\n",
        "\n",
        "\n",
        "# 5) Convert categorical columns into numerical, use dummy variables or mapping accordingly:\n",
        "* **Dummy Variables:**  pd.get_dummies() to create dummy columns for: `DEPC`, `GENDER`, `RES_STA`\n",
        "* **Mapping:**  Transmission and Seller_Type's categories to 0 and 1"
      ]
    },
    {
      "cell_type": "code",
      "execution_count": null,
      "metadata": {
        "colab": {
          "base_uri": "https://localhost:8080/"
        },
        "id": "zD9XvY2gejfW",
        "outputId": "a3208f88-d2e5-4cba-f249-77ceb67f20aa"
      },
      "outputs": [
        {
          "data": {
            "text/plain": [
              "Y    18564\n",
              "N    11340\n",
              "Name: MOB, dtype: int64"
            ]
          },
          "execution_count": 43,
          "metadata": {},
          "output_type": "execute_result"
        }
      ],
      "source": [
        "## Map binary variables herer\n",
        "email_data['MOB'].value_counts()"
      ]
    },
    {
      "cell_type": "code",
      "execution_count": null,
      "metadata": {
        "id": "YqF1ZjtEAgVC"
      },
      "outputs": [],
      "source": [
        "email_data['MOB']=email_data['MOB'].map({'Y':1,'N':0}).astype(int)"
      ]
    },
    {
      "cell_type": "code",
      "execution_count": null,
      "metadata": {
        "colab": {
          "base_uri": "https://localhost:8080/"
        },
        "id": "unyZioEw-Kq3",
        "outputId": "78407e58-0047-4edd-ea85-46ffe3de4bfa"
      },
      "outputs": [
        {
          "data": {
            "text/plain": [
              "1    18564\n",
              "0    11340\n",
              "Name: MOB, dtype: int64"
            ]
          },
          "execution_count": 45,
          "metadata": {},
          "output_type": "execute_result"
        }
      ],
      "source": [
        "email_data['MOB'].value_counts()"
      ]
    },
    {
      "cell_type": "code",
      "execution_count": null,
      "metadata": {
        "colab": {
          "base_uri": "https://localhost:8080/"
        },
        "id": "bGXUU91IeMuX",
        "outputId": "bc77389c-d714-42c7-9efb-092a463daaa1"
      },
      "outputs": [
        {
          "data": {
            "text/plain": [
              "['MS', 'DEPC', 'RESTYPE', 'GENDER', 'EMP_STA', 'RES_STA', 'MRTGI']"
            ]
          },
          "execution_count": 46,
          "metadata": {},
          "output_type": "execute_result"
        }
      ],
      "source": [
        "# get dummy variables\n",
        "categories=list(email_data.select_dtypes(exclude=['int64','float']))\n",
        "categories"
      ]
    },
    {
      "cell_type": "code",
      "execution_count": null,
      "metadata": {
        "colab": {
          "base_uri": "https://localhost:8080/"
        },
        "id": "Cp2kPe9Q_NKq",
        "outputId": "a7662931-40fa-41e7-f3a2-9881bf36f5ca"
      },
      "outputs": [
        {
          "data": {
            "text/plain": [
              "['EMP_STA', 'GENDER', 'MRTGI', 'MS', 'RESTYPE', 'RES_STA']"
            ]
          },
          "execution_count": 47,
          "metadata": {},
          "output_type": "execute_result"
        }
      ],
      "source": [
        "categories = np.setdiff1d(categories, ['MOB','DEPC']).tolist()\n",
        "categories"
      ]
    },
    {
      "cell_type": "code",
      "execution_count": null,
      "metadata": {
        "colab": {
          "base_uri": "https://localhost:8080/",
          "height": 487
        },
        "id": "2PBzaZhyCHCD",
        "outputId": "2385824b-c6b4-44d7-8216-da1d64f0c80f"
      },
      "outputs": [
        {
          "data": {
            "text/html": [
              "\n",
              "  <div id=\"df-1879e279-0587-4492-9b6c-878ec3eda961\">\n",
              "    <div class=\"colab-df-container\">\n",
              "      <div>\n",
              "<style scoped>\n",
              "    .dataframe tbody tr th:only-of-type {\n",
              "        vertical-align: middle;\n",
              "    }\n",
              "\n",
              "    .dataframe tbody tr th {\n",
              "        vertical-align: top;\n",
              "    }\n",
              "\n",
              "    .dataframe thead th {\n",
              "        text-align: right;\n",
              "    }\n",
              "</style>\n",
              "<table border=\"1\" class=\"dataframe\">\n",
              "  <thead>\n",
              "    <tr style=\"text-align: right;\">\n",
              "      <th></th>\n",
              "      <th>AGE</th>\n",
              "      <th>CRED</th>\n",
              "      <th>HEQ</th>\n",
              "      <th>INCOME</th>\n",
              "      <th>DEPC</th>\n",
              "      <th>MOB</th>\n",
              "      <th>MILEAGE</th>\n",
              "      <th>DELINQ</th>\n",
              "      <th>NUMTR</th>\n",
              "      <th>MFDU</th>\n",
              "      <th>resp</th>\n",
              "      <th>CRED_TEMP</th>\n",
              "      <th>AGE_TEMP</th>\n",
              "      <th>HEQ_TEMP</th>\n",
              "      <th>EMP_STA_1,2</th>\n",
              "      <th>EMP_STA_3+</th>\n",
              "      <th>GENDER_M</th>\n",
              "      <th>MRTGI_U</th>\n",
              "      <th>MRTGI_Y</th>\n",
              "      <th>MS_U</th>\n",
              "      <th>MS_X</th>\n",
              "      <th>RESTYPE_COOP</th>\n",
              "      <th>RESTYPE_HOME</th>\n",
              "      <th>RESTYPE_RENTER</th>\n",
              "      <th>RES_STA_3+</th>\n",
              "    </tr>\n",
              "  </thead>\n",
              "  <tbody>\n",
              "    <tr>\n",
              "      <th>0</th>\n",
              "      <td>20</td>\n",
              "      <td>543.0</td>\n",
              "      <td>0.1</td>\n",
              "      <td>20.0</td>\n",
              "      <td>N</td>\n",
              "      <td>1</td>\n",
              "      <td>14.418</td>\n",
              "      <td>0.0</td>\n",
              "      <td>2.0</td>\n",
              "      <td>0</td>\n",
              "      <td>0</td>\n",
              "      <td>543.0</td>\n",
              "      <td>20</td>\n",
              "      <td>0.1</td>\n",
              "      <td>1</td>\n",
              "      <td>0</td>\n",
              "      <td>1</td>\n",
              "      <td>0</td>\n",
              "      <td>0</td>\n",
              "      <td>1</td>\n",
              "      <td>0</td>\n",
              "      <td>0</td>\n",
              "      <td>1</td>\n",
              "      <td>0</td>\n",
              "      <td>0</td>\n",
              "    </tr>\n",
              "    <tr>\n",
              "      <th>1</th>\n",
              "      <td>18</td>\n",
              "      <td>617.0</td>\n",
              "      <td>0.1</td>\n",
              "      <td>20.0</td>\n",
              "      <td>N</td>\n",
              "      <td>1</td>\n",
              "      <td>0.311</td>\n",
              "      <td>2.0</td>\n",
              "      <td>2.0</td>\n",
              "      <td>0</td>\n",
              "      <td>0</td>\n",
              "      <td>445.0</td>\n",
              "      <td>18</td>\n",
              "      <td>0.1</td>\n",
              "      <td>0</td>\n",
              "      <td>0</td>\n",
              "      <td>1</td>\n",
              "      <td>0</td>\n",
              "      <td>1</td>\n",
              "      <td>1</td>\n",
              "      <td>0</td>\n",
              "      <td>0</td>\n",
              "      <td>1</td>\n",
              "      <td>0</td>\n",
              "      <td>0</td>\n",
              "    </tr>\n",
              "    <tr>\n",
              "      <th>2</th>\n",
              "      <td>19</td>\n",
              "      <td>617.0</td>\n",
              "      <td>0.1</td>\n",
              "      <td>20.0</td>\n",
              "      <td>N</td>\n",
              "      <td>0</td>\n",
              "      <td>17.876</td>\n",
              "      <td>1.0</td>\n",
              "      <td>0.0</td>\n",
              "      <td>0</td>\n",
              "      <td>0</td>\n",
              "      <td>423.0</td>\n",
              "      <td>19</td>\n",
              "      <td>0.1</td>\n",
              "      <td>1</td>\n",
              "      <td>0</td>\n",
              "      <td>1</td>\n",
              "      <td>0</td>\n",
              "      <td>1</td>\n",
              "      <td>1</td>\n",
              "      <td>0</td>\n",
              "      <td>0</td>\n",
              "      <td>1</td>\n",
              "      <td>0</td>\n",
              "      <td>0</td>\n",
              "    </tr>\n",
              "    <tr>\n",
              "      <th>3</th>\n",
              "      <td>18</td>\n",
              "      <td>617.0</td>\n",
              "      <td>0.1</td>\n",
              "      <td>20.0</td>\n",
              "      <td>N</td>\n",
              "      <td>1</td>\n",
              "      <td>17.084</td>\n",
              "      <td>0.0</td>\n",
              "      <td>0.0</td>\n",
              "      <td>0</td>\n",
              "      <td>0</td>\n",
              "      <td>416.0</td>\n",
              "      <td>18</td>\n",
              "      <td>0.1</td>\n",
              "      <td>1</td>\n",
              "      <td>0</td>\n",
              "      <td>0</td>\n",
              "      <td>0</td>\n",
              "      <td>1</td>\n",
              "      <td>0</td>\n",
              "      <td>1</td>\n",
              "      <td>0</td>\n",
              "      <td>1</td>\n",
              "      <td>0</td>\n",
              "      <td>0</td>\n",
              "    </tr>\n",
              "    <tr>\n",
              "      <th>4</th>\n",
              "      <td>18</td>\n",
              "      <td>522.0</td>\n",
              "      <td>0.1</td>\n",
              "      <td>20.0</td>\n",
              "      <td>Y</td>\n",
              "      <td>1</td>\n",
              "      <td>16.510</td>\n",
              "      <td>1.0</td>\n",
              "      <td>0.0</td>\n",
              "      <td>0</td>\n",
              "      <td>0</td>\n",
              "      <td>522.0</td>\n",
              "      <td>18</td>\n",
              "      <td>0.1</td>\n",
              "      <td>1</td>\n",
              "      <td>0</td>\n",
              "      <td>0</td>\n",
              "      <td>0</td>\n",
              "      <td>1</td>\n",
              "      <td>1</td>\n",
              "      <td>0</td>\n",
              "      <td>0</td>\n",
              "      <td>1</td>\n",
              "      <td>0</td>\n",
              "      <td>0</td>\n",
              "    </tr>\n",
              "    <tr>\n",
              "      <th>...</th>\n",
              "      <td>...</td>\n",
              "      <td>...</td>\n",
              "      <td>...</td>\n",
              "      <td>...</td>\n",
              "      <td>...</td>\n",
              "      <td>...</td>\n",
              "      <td>...</td>\n",
              "      <td>...</td>\n",
              "      <td>...</td>\n",
              "      <td>...</td>\n",
              "      <td>...</td>\n",
              "      <td>...</td>\n",
              "      <td>...</td>\n",
              "      <td>...</td>\n",
              "      <td>...</td>\n",
              "      <td>...</td>\n",
              "      <td>...</td>\n",
              "      <td>...</td>\n",
              "      <td>...</td>\n",
              "      <td>...</td>\n",
              "      <td>...</td>\n",
              "      <td>...</td>\n",
              "      <td>...</td>\n",
              "      <td>...</td>\n",
              "      <td>...</td>\n",
              "    </tr>\n",
              "    <tr>\n",
              "      <th>29899</th>\n",
              "      <td>56</td>\n",
              "      <td>1789.0</td>\n",
              "      <td>30.0</td>\n",
              "      <td>30.0</td>\n",
              "      <td>Y</td>\n",
              "      <td>1</td>\n",
              "      <td>17.302</td>\n",
              "      <td>1.0</td>\n",
              "      <td>0.0</td>\n",
              "      <td>1</td>\n",
              "      <td>0</td>\n",
              "      <td>1789.0</td>\n",
              "      <td>56</td>\n",
              "      <td>30.0</td>\n",
              "      <td>1</td>\n",
              "      <td>0</td>\n",
              "      <td>0</td>\n",
              "      <td>0</td>\n",
              "      <td>1</td>\n",
              "      <td>0</td>\n",
              "      <td>0</td>\n",
              "      <td>1</td>\n",
              "      <td>0</td>\n",
              "      <td>0</td>\n",
              "      <td>1</td>\n",
              "    </tr>\n",
              "    <tr>\n",
              "      <th>29900</th>\n",
              "      <td>58</td>\n",
              "      <td>1789.0</td>\n",
              "      <td>30.0</td>\n",
              "      <td>40.0</td>\n",
              "      <td>Y</td>\n",
              "      <td>0</td>\n",
              "      <td>10.509</td>\n",
              "      <td>0.0</td>\n",
              "      <td>0.0</td>\n",
              "      <td>0</td>\n",
              "      <td>0</td>\n",
              "      <td>1789.0</td>\n",
              "      <td>58</td>\n",
              "      <td>30.0</td>\n",
              "      <td>1</td>\n",
              "      <td>0</td>\n",
              "      <td>1</td>\n",
              "      <td>0</td>\n",
              "      <td>1</td>\n",
              "      <td>1</td>\n",
              "      <td>0</td>\n",
              "      <td>0</td>\n",
              "      <td>1</td>\n",
              "      <td>0</td>\n",
              "      <td>1</td>\n",
              "    </tr>\n",
              "    <tr>\n",
              "      <th>29901</th>\n",
              "      <td>64</td>\n",
              "      <td>1789.0</td>\n",
              "      <td>30.0</td>\n",
              "      <td>40.0</td>\n",
              "      <td>Y</td>\n",
              "      <td>0</td>\n",
              "      <td>4.749</td>\n",
              "      <td>0.0</td>\n",
              "      <td>0.0</td>\n",
              "      <td>1</td>\n",
              "      <td>0</td>\n",
              "      <td>1789.0</td>\n",
              "      <td>64</td>\n",
              "      <td>30.0</td>\n",
              "      <td>1</td>\n",
              "      <td>0</td>\n",
              "      <td>0</td>\n",
              "      <td>0</td>\n",
              "      <td>0</td>\n",
              "      <td>0</td>\n",
              "      <td>0</td>\n",
              "      <td>0</td>\n",
              "      <td>0</td>\n",
              "      <td>1</td>\n",
              "      <td>0</td>\n",
              "    </tr>\n",
              "    <tr>\n",
              "      <th>29902</th>\n",
              "      <td>64</td>\n",
              "      <td>1789.0</td>\n",
              "      <td>30.0</td>\n",
              "      <td>40.0</td>\n",
              "      <td>Y</td>\n",
              "      <td>1</td>\n",
              "      <td>11.110</td>\n",
              "      <td>0.0</td>\n",
              "      <td>0.0</td>\n",
              "      <td>0</td>\n",
              "      <td>0</td>\n",
              "      <td>1789.0</td>\n",
              "      <td>64</td>\n",
              "      <td>30.0</td>\n",
              "      <td>1</td>\n",
              "      <td>0</td>\n",
              "      <td>0</td>\n",
              "      <td>0</td>\n",
              "      <td>1</td>\n",
              "      <td>0</td>\n",
              "      <td>0</td>\n",
              "      <td>0</td>\n",
              "      <td>1</td>\n",
              "      <td>0</td>\n",
              "      <td>0</td>\n",
              "    </tr>\n",
              "    <tr>\n",
              "      <th>29903</th>\n",
              "      <td>68</td>\n",
              "      <td>1789.0</td>\n",
              "      <td>90.0</td>\n",
              "      <td>40.0</td>\n",
              "      <td>N</td>\n",
              "      <td>1</td>\n",
              "      <td>18.653</td>\n",
              "      <td>1.0</td>\n",
              "      <td>1.0</td>\n",
              "      <td>0</td>\n",
              "      <td>0</td>\n",
              "      <td>1789.0</td>\n",
              "      <td>50</td>\n",
              "      <td>90.0</td>\n",
              "      <td>1</td>\n",
              "      <td>0</td>\n",
              "      <td>1</td>\n",
              "      <td>1</td>\n",
              "      <td>0</td>\n",
              "      <td>0</td>\n",
              "      <td>0</td>\n",
              "      <td>0</td>\n",
              "      <td>1</td>\n",
              "      <td>0</td>\n",
              "      <td>1</td>\n",
              "    </tr>\n",
              "  </tbody>\n",
              "</table>\n",
              "<p>29904 rows × 25 columns</p>\n",
              "</div>\n",
              "      <button class=\"colab-df-convert\" onclick=\"convertToInteractive('df-1879e279-0587-4492-9b6c-878ec3eda961')\"\n",
              "              title=\"Convert this dataframe to an interactive table.\"\n",
              "              style=\"display:none;\">\n",
              "        \n",
              "  <svg xmlns=\"http://www.w3.org/2000/svg\" height=\"24px\"viewBox=\"0 0 24 24\"\n",
              "       width=\"24px\">\n",
              "    <path d=\"M0 0h24v24H0V0z\" fill=\"none\"/>\n",
              "    <path d=\"M18.56 5.44l.94 2.06.94-2.06 2.06-.94-2.06-.94-.94-2.06-.94 2.06-2.06.94zm-11 1L8.5 8.5l.94-2.06 2.06-.94-2.06-.94L8.5 2.5l-.94 2.06-2.06.94zm10 10l.94 2.06.94-2.06 2.06-.94-2.06-.94-.94-2.06-.94 2.06-2.06.94z\"/><path d=\"M17.41 7.96l-1.37-1.37c-.4-.4-.92-.59-1.43-.59-.52 0-1.04.2-1.43.59L10.3 9.45l-7.72 7.72c-.78.78-.78 2.05 0 2.83L4 21.41c.39.39.9.59 1.41.59.51 0 1.02-.2 1.41-.59l7.78-7.78 2.81-2.81c.8-.78.8-2.07 0-2.86zM5.41 20L4 18.59l7.72-7.72 1.47 1.35L5.41 20z\"/>\n",
              "  </svg>\n",
              "      </button>\n",
              "      \n",
              "  <style>\n",
              "    .colab-df-container {\n",
              "      display:flex;\n",
              "      flex-wrap:wrap;\n",
              "      gap: 12px;\n",
              "    }\n",
              "\n",
              "    .colab-df-convert {\n",
              "      background-color: #E8F0FE;\n",
              "      border: none;\n",
              "      border-radius: 50%;\n",
              "      cursor: pointer;\n",
              "      display: none;\n",
              "      fill: #1967D2;\n",
              "      height: 32px;\n",
              "      padding: 0 0 0 0;\n",
              "      width: 32px;\n",
              "    }\n",
              "\n",
              "    .colab-df-convert:hover {\n",
              "      background-color: #E2EBFA;\n",
              "      box-shadow: 0px 1px 2px rgba(60, 64, 67, 0.3), 0px 1px 3px 1px rgba(60, 64, 67, 0.15);\n",
              "      fill: #174EA6;\n",
              "    }\n",
              "\n",
              "    [theme=dark] .colab-df-convert {\n",
              "      background-color: #3B4455;\n",
              "      fill: #D2E3FC;\n",
              "    }\n",
              "\n",
              "    [theme=dark] .colab-df-convert:hover {\n",
              "      background-color: #434B5C;\n",
              "      box-shadow: 0px 1px 3px 1px rgba(0, 0, 0, 0.15);\n",
              "      filter: drop-shadow(0px 1px 2px rgba(0, 0, 0, 0.3));\n",
              "      fill: #FFFFFF;\n",
              "    }\n",
              "  </style>\n",
              "\n",
              "      <script>\n",
              "        const buttonEl =\n",
              "          document.querySelector('#df-1879e279-0587-4492-9b6c-878ec3eda961 button.colab-df-convert');\n",
              "        buttonEl.style.display =\n",
              "          google.colab.kernel.accessAllowed ? 'block' : 'none';\n",
              "\n",
              "        async function convertToInteractive(key) {\n",
              "          const element = document.querySelector('#df-1879e279-0587-4492-9b6c-878ec3eda961');\n",
              "          const dataTable =\n",
              "            await google.colab.kernel.invokeFunction('convertToInteractive',\n",
              "                                                     [key], {});\n",
              "          if (!dataTable) return;\n",
              "\n",
              "          const docLinkHtml = 'Like what you see? Visit the ' +\n",
              "            '<a target=\"_blank\" href=https://colab.research.google.com/notebooks/data_table.ipynb>data table notebook</a>'\n",
              "            + ' to learn more about interactive tables.';\n",
              "          element.innerHTML = '';\n",
              "          dataTable['output_type'] = 'display_data';\n",
              "          await google.colab.output.renderOutput(dataTable, element);\n",
              "          const docLink = document.createElement('div');\n",
              "          docLink.innerHTML = docLinkHtml;\n",
              "          element.appendChild(docLink);\n",
              "        }\n",
              "      </script>\n",
              "    </div>\n",
              "  </div>\n",
              "  "
            ],
            "text/plain": [
              "       AGE    CRED   HEQ  ...  RESTYPE_HOME RESTYPE_RENTER  RES_STA_3+\n",
              "0       20   543.0   0.1  ...             1              0           0\n",
              "1       18   617.0   0.1  ...             1              0           0\n",
              "2       19   617.0   0.1  ...             1              0           0\n",
              "3       18   617.0   0.1  ...             1              0           0\n",
              "4       18   522.0   0.1  ...             1              0           0\n",
              "...    ...     ...   ...  ...           ...            ...         ...\n",
              "29899   56  1789.0  30.0  ...             0              0           1\n",
              "29900   58  1789.0  30.0  ...             1              0           1\n",
              "29901   64  1789.0  30.0  ...             0              1           0\n",
              "29902   64  1789.0  30.0  ...             1              0           0\n",
              "29903   68  1789.0  90.0  ...             1              0           1\n",
              "\n",
              "[29904 rows x 25 columns]"
            ]
          },
          "execution_count": 48,
          "metadata": {},
          "output_type": "execute_result"
        }
      ],
      "source": [
        "email_data=pd.get_dummies(email_data, columns=categories, drop_first=True)\n",
        "email_data"
      ]
    },
    {
      "cell_type": "code",
      "execution_count": null,
      "metadata": {
        "colab": {
          "base_uri": "https://localhost:8080/",
          "height": 487
        },
        "id": "ocTK_VeCF7uM",
        "outputId": "4175be82-c8e0-4c44-e571-b7969d11daf1"
      },
      "outputs": [
        {
          "data": {
            "text/html": [
              "\n",
              "  <div id=\"df-7a18dafd-2524-4840-871c-edd98534fbae\">\n",
              "    <div class=\"colab-df-container\">\n",
              "      <div>\n",
              "<style scoped>\n",
              "    .dataframe tbody tr th:only-of-type {\n",
              "        vertical-align: middle;\n",
              "    }\n",
              "\n",
              "    .dataframe tbody tr th {\n",
              "        vertical-align: top;\n",
              "    }\n",
              "\n",
              "    .dataframe thead th {\n",
              "        text-align: right;\n",
              "    }\n",
              "</style>\n",
              "<table border=\"1\" class=\"dataframe\">\n",
              "  <thead>\n",
              "    <tr style=\"text-align: right;\">\n",
              "      <th></th>\n",
              "      <th>AGE</th>\n",
              "      <th>CRED</th>\n",
              "      <th>HEQ</th>\n",
              "      <th>INCOME</th>\n",
              "      <th>DEPC</th>\n",
              "      <th>MOB</th>\n",
              "      <th>MILEAGE</th>\n",
              "      <th>DELINQ</th>\n",
              "      <th>NUMTR</th>\n",
              "      <th>MFDU</th>\n",
              "      <th>resp</th>\n",
              "      <th>CRED_TEMP</th>\n",
              "      <th>AGE_TEMP</th>\n",
              "      <th>HEQ_TEMP</th>\n",
              "      <th>EMP_STA_1_2</th>\n",
              "      <th>EMP_STA_3_plus</th>\n",
              "      <th>GENDER_M</th>\n",
              "      <th>MRTGI_U</th>\n",
              "      <th>MRTGI_Y</th>\n",
              "      <th>MS_U</th>\n",
              "      <th>MS_X</th>\n",
              "      <th>RESTYPE_COOP</th>\n",
              "      <th>RESTYPE_HOME</th>\n",
              "      <th>RESTYPE_RENTER</th>\n",
              "      <th>RES_STA_3_plus</th>\n",
              "    </tr>\n",
              "  </thead>\n",
              "  <tbody>\n",
              "    <tr>\n",
              "      <th>0</th>\n",
              "      <td>20</td>\n",
              "      <td>543.0</td>\n",
              "      <td>0.1</td>\n",
              "      <td>20.0</td>\n",
              "      <td>N</td>\n",
              "      <td>1</td>\n",
              "      <td>14.418</td>\n",
              "      <td>0.0</td>\n",
              "      <td>2.0</td>\n",
              "      <td>0</td>\n",
              "      <td>0</td>\n",
              "      <td>543.0</td>\n",
              "      <td>20</td>\n",
              "      <td>0.1</td>\n",
              "      <td>1</td>\n",
              "      <td>0</td>\n",
              "      <td>1</td>\n",
              "      <td>0</td>\n",
              "      <td>0</td>\n",
              "      <td>1</td>\n",
              "      <td>0</td>\n",
              "      <td>0</td>\n",
              "      <td>1</td>\n",
              "      <td>0</td>\n",
              "      <td>0</td>\n",
              "    </tr>\n",
              "    <tr>\n",
              "      <th>1</th>\n",
              "      <td>18</td>\n",
              "      <td>617.0</td>\n",
              "      <td>0.1</td>\n",
              "      <td>20.0</td>\n",
              "      <td>N</td>\n",
              "      <td>1</td>\n",
              "      <td>0.311</td>\n",
              "      <td>2.0</td>\n",
              "      <td>2.0</td>\n",
              "      <td>0</td>\n",
              "      <td>0</td>\n",
              "      <td>445.0</td>\n",
              "      <td>18</td>\n",
              "      <td>0.1</td>\n",
              "      <td>0</td>\n",
              "      <td>0</td>\n",
              "      <td>1</td>\n",
              "      <td>0</td>\n",
              "      <td>1</td>\n",
              "      <td>1</td>\n",
              "      <td>0</td>\n",
              "      <td>0</td>\n",
              "      <td>1</td>\n",
              "      <td>0</td>\n",
              "      <td>0</td>\n",
              "    </tr>\n",
              "    <tr>\n",
              "      <th>2</th>\n",
              "      <td>19</td>\n",
              "      <td>617.0</td>\n",
              "      <td>0.1</td>\n",
              "      <td>20.0</td>\n",
              "      <td>N</td>\n",
              "      <td>0</td>\n",
              "      <td>17.876</td>\n",
              "      <td>1.0</td>\n",
              "      <td>0.0</td>\n",
              "      <td>0</td>\n",
              "      <td>0</td>\n",
              "      <td>423.0</td>\n",
              "      <td>19</td>\n",
              "      <td>0.1</td>\n",
              "      <td>1</td>\n",
              "      <td>0</td>\n",
              "      <td>1</td>\n",
              "      <td>0</td>\n",
              "      <td>1</td>\n",
              "      <td>1</td>\n",
              "      <td>0</td>\n",
              "      <td>0</td>\n",
              "      <td>1</td>\n",
              "      <td>0</td>\n",
              "      <td>0</td>\n",
              "    </tr>\n",
              "    <tr>\n",
              "      <th>3</th>\n",
              "      <td>18</td>\n",
              "      <td>617.0</td>\n",
              "      <td>0.1</td>\n",
              "      <td>20.0</td>\n",
              "      <td>N</td>\n",
              "      <td>1</td>\n",
              "      <td>17.084</td>\n",
              "      <td>0.0</td>\n",
              "      <td>0.0</td>\n",
              "      <td>0</td>\n",
              "      <td>0</td>\n",
              "      <td>416.0</td>\n",
              "      <td>18</td>\n",
              "      <td>0.1</td>\n",
              "      <td>1</td>\n",
              "      <td>0</td>\n",
              "      <td>0</td>\n",
              "      <td>0</td>\n",
              "      <td>1</td>\n",
              "      <td>0</td>\n",
              "      <td>1</td>\n",
              "      <td>0</td>\n",
              "      <td>1</td>\n",
              "      <td>0</td>\n",
              "      <td>0</td>\n",
              "    </tr>\n",
              "    <tr>\n",
              "      <th>4</th>\n",
              "      <td>18</td>\n",
              "      <td>522.0</td>\n",
              "      <td>0.1</td>\n",
              "      <td>20.0</td>\n",
              "      <td>Y</td>\n",
              "      <td>1</td>\n",
              "      <td>16.510</td>\n",
              "      <td>1.0</td>\n",
              "      <td>0.0</td>\n",
              "      <td>0</td>\n",
              "      <td>0</td>\n",
              "      <td>522.0</td>\n",
              "      <td>18</td>\n",
              "      <td>0.1</td>\n",
              "      <td>1</td>\n",
              "      <td>0</td>\n",
              "      <td>0</td>\n",
              "      <td>0</td>\n",
              "      <td>1</td>\n",
              "      <td>1</td>\n",
              "      <td>0</td>\n",
              "      <td>0</td>\n",
              "      <td>1</td>\n",
              "      <td>0</td>\n",
              "      <td>0</td>\n",
              "    </tr>\n",
              "    <tr>\n",
              "      <th>...</th>\n",
              "      <td>...</td>\n",
              "      <td>...</td>\n",
              "      <td>...</td>\n",
              "      <td>...</td>\n",
              "      <td>...</td>\n",
              "      <td>...</td>\n",
              "      <td>...</td>\n",
              "      <td>...</td>\n",
              "      <td>...</td>\n",
              "      <td>...</td>\n",
              "      <td>...</td>\n",
              "      <td>...</td>\n",
              "      <td>...</td>\n",
              "      <td>...</td>\n",
              "      <td>...</td>\n",
              "      <td>...</td>\n",
              "      <td>...</td>\n",
              "      <td>...</td>\n",
              "      <td>...</td>\n",
              "      <td>...</td>\n",
              "      <td>...</td>\n",
              "      <td>...</td>\n",
              "      <td>...</td>\n",
              "      <td>...</td>\n",
              "      <td>...</td>\n",
              "    </tr>\n",
              "    <tr>\n",
              "      <th>29899</th>\n",
              "      <td>56</td>\n",
              "      <td>1789.0</td>\n",
              "      <td>30.0</td>\n",
              "      <td>30.0</td>\n",
              "      <td>Y</td>\n",
              "      <td>1</td>\n",
              "      <td>17.302</td>\n",
              "      <td>1.0</td>\n",
              "      <td>0.0</td>\n",
              "      <td>1</td>\n",
              "      <td>0</td>\n",
              "      <td>1789.0</td>\n",
              "      <td>56</td>\n",
              "      <td>30.0</td>\n",
              "      <td>1</td>\n",
              "      <td>0</td>\n",
              "      <td>0</td>\n",
              "      <td>0</td>\n",
              "      <td>1</td>\n",
              "      <td>0</td>\n",
              "      <td>0</td>\n",
              "      <td>1</td>\n",
              "      <td>0</td>\n",
              "      <td>0</td>\n",
              "      <td>1</td>\n",
              "    </tr>\n",
              "    <tr>\n",
              "      <th>29900</th>\n",
              "      <td>58</td>\n",
              "      <td>1789.0</td>\n",
              "      <td>30.0</td>\n",
              "      <td>40.0</td>\n",
              "      <td>Y</td>\n",
              "      <td>0</td>\n",
              "      <td>10.509</td>\n",
              "      <td>0.0</td>\n",
              "      <td>0.0</td>\n",
              "      <td>0</td>\n",
              "      <td>0</td>\n",
              "      <td>1789.0</td>\n",
              "      <td>58</td>\n",
              "      <td>30.0</td>\n",
              "      <td>1</td>\n",
              "      <td>0</td>\n",
              "      <td>1</td>\n",
              "      <td>0</td>\n",
              "      <td>1</td>\n",
              "      <td>1</td>\n",
              "      <td>0</td>\n",
              "      <td>0</td>\n",
              "      <td>1</td>\n",
              "      <td>0</td>\n",
              "      <td>1</td>\n",
              "    </tr>\n",
              "    <tr>\n",
              "      <th>29901</th>\n",
              "      <td>64</td>\n",
              "      <td>1789.0</td>\n",
              "      <td>30.0</td>\n",
              "      <td>40.0</td>\n",
              "      <td>Y</td>\n",
              "      <td>0</td>\n",
              "      <td>4.749</td>\n",
              "      <td>0.0</td>\n",
              "      <td>0.0</td>\n",
              "      <td>1</td>\n",
              "      <td>0</td>\n",
              "      <td>1789.0</td>\n",
              "      <td>64</td>\n",
              "      <td>30.0</td>\n",
              "      <td>1</td>\n",
              "      <td>0</td>\n",
              "      <td>0</td>\n",
              "      <td>0</td>\n",
              "      <td>0</td>\n",
              "      <td>0</td>\n",
              "      <td>0</td>\n",
              "      <td>0</td>\n",
              "      <td>0</td>\n",
              "      <td>1</td>\n",
              "      <td>0</td>\n",
              "    </tr>\n",
              "    <tr>\n",
              "      <th>29902</th>\n",
              "      <td>64</td>\n",
              "      <td>1789.0</td>\n",
              "      <td>30.0</td>\n",
              "      <td>40.0</td>\n",
              "      <td>Y</td>\n",
              "      <td>1</td>\n",
              "      <td>11.110</td>\n",
              "      <td>0.0</td>\n",
              "      <td>0.0</td>\n",
              "      <td>0</td>\n",
              "      <td>0</td>\n",
              "      <td>1789.0</td>\n",
              "      <td>64</td>\n",
              "      <td>30.0</td>\n",
              "      <td>1</td>\n",
              "      <td>0</td>\n",
              "      <td>0</td>\n",
              "      <td>0</td>\n",
              "      <td>1</td>\n",
              "      <td>0</td>\n",
              "      <td>0</td>\n",
              "      <td>0</td>\n",
              "      <td>1</td>\n",
              "      <td>0</td>\n",
              "      <td>0</td>\n",
              "    </tr>\n",
              "    <tr>\n",
              "      <th>29903</th>\n",
              "      <td>68</td>\n",
              "      <td>1789.0</td>\n",
              "      <td>90.0</td>\n",
              "      <td>40.0</td>\n",
              "      <td>N</td>\n",
              "      <td>1</td>\n",
              "      <td>18.653</td>\n",
              "      <td>1.0</td>\n",
              "      <td>1.0</td>\n",
              "      <td>0</td>\n",
              "      <td>0</td>\n",
              "      <td>1789.0</td>\n",
              "      <td>50</td>\n",
              "      <td>90.0</td>\n",
              "      <td>1</td>\n",
              "      <td>0</td>\n",
              "      <td>1</td>\n",
              "      <td>1</td>\n",
              "      <td>0</td>\n",
              "      <td>0</td>\n",
              "      <td>0</td>\n",
              "      <td>0</td>\n",
              "      <td>1</td>\n",
              "      <td>0</td>\n",
              "      <td>1</td>\n",
              "    </tr>\n",
              "  </tbody>\n",
              "</table>\n",
              "<p>29904 rows × 25 columns</p>\n",
              "</div>\n",
              "      <button class=\"colab-df-convert\" onclick=\"convertToInteractive('df-7a18dafd-2524-4840-871c-edd98534fbae')\"\n",
              "              title=\"Convert this dataframe to an interactive table.\"\n",
              "              style=\"display:none;\">\n",
              "        \n",
              "  <svg xmlns=\"http://www.w3.org/2000/svg\" height=\"24px\"viewBox=\"0 0 24 24\"\n",
              "       width=\"24px\">\n",
              "    <path d=\"M0 0h24v24H0V0z\" fill=\"none\"/>\n",
              "    <path d=\"M18.56 5.44l.94 2.06.94-2.06 2.06-.94-2.06-.94-.94-2.06-.94 2.06-2.06.94zm-11 1L8.5 8.5l.94-2.06 2.06-.94-2.06-.94L8.5 2.5l-.94 2.06-2.06.94zm10 10l.94 2.06.94-2.06 2.06-.94-2.06-.94-.94-2.06-.94 2.06-2.06.94z\"/><path d=\"M17.41 7.96l-1.37-1.37c-.4-.4-.92-.59-1.43-.59-.52 0-1.04.2-1.43.59L10.3 9.45l-7.72 7.72c-.78.78-.78 2.05 0 2.83L4 21.41c.39.39.9.59 1.41.59.51 0 1.02-.2 1.41-.59l7.78-7.78 2.81-2.81c.8-.78.8-2.07 0-2.86zM5.41 20L4 18.59l7.72-7.72 1.47 1.35L5.41 20z\"/>\n",
              "  </svg>\n",
              "      </button>\n",
              "      \n",
              "  <style>\n",
              "    .colab-df-container {\n",
              "      display:flex;\n",
              "      flex-wrap:wrap;\n",
              "      gap: 12px;\n",
              "    }\n",
              "\n",
              "    .colab-df-convert {\n",
              "      background-color: #E8F0FE;\n",
              "      border: none;\n",
              "      border-radius: 50%;\n",
              "      cursor: pointer;\n",
              "      display: none;\n",
              "      fill: #1967D2;\n",
              "      height: 32px;\n",
              "      padding: 0 0 0 0;\n",
              "      width: 32px;\n",
              "    }\n",
              "\n",
              "    .colab-df-convert:hover {\n",
              "      background-color: #E2EBFA;\n",
              "      box-shadow: 0px 1px 2px rgba(60, 64, 67, 0.3), 0px 1px 3px 1px rgba(60, 64, 67, 0.15);\n",
              "      fill: #174EA6;\n",
              "    }\n",
              "\n",
              "    [theme=dark] .colab-df-convert {\n",
              "      background-color: #3B4455;\n",
              "      fill: #D2E3FC;\n",
              "    }\n",
              "\n",
              "    [theme=dark] .colab-df-convert:hover {\n",
              "      background-color: #434B5C;\n",
              "      box-shadow: 0px 1px 3px 1px rgba(0, 0, 0, 0.15);\n",
              "      filter: drop-shadow(0px 1px 2px rgba(0, 0, 0, 0.3));\n",
              "      fill: #FFFFFF;\n",
              "    }\n",
              "  </style>\n",
              "\n",
              "      <script>\n",
              "        const buttonEl =\n",
              "          document.querySelector('#df-7a18dafd-2524-4840-871c-edd98534fbae button.colab-df-convert');\n",
              "        buttonEl.style.display =\n",
              "          google.colab.kernel.accessAllowed ? 'block' : 'none';\n",
              "\n",
              "        async function convertToInteractive(key) {\n",
              "          const element = document.querySelector('#df-7a18dafd-2524-4840-871c-edd98534fbae');\n",
              "          const dataTable =\n",
              "            await google.colab.kernel.invokeFunction('convertToInteractive',\n",
              "                                                     [key], {});\n",
              "          if (!dataTable) return;\n",
              "\n",
              "          const docLinkHtml = 'Like what you see? Visit the ' +\n",
              "            '<a target=\"_blank\" href=https://colab.research.google.com/notebooks/data_table.ipynb>data table notebook</a>'\n",
              "            + ' to learn more about interactive tables.';\n",
              "          element.innerHTML = '';\n",
              "          dataTable['output_type'] = 'display_data';\n",
              "          await google.colab.output.renderOutput(dataTable, element);\n",
              "          const docLink = document.createElement('div');\n",
              "          docLink.innerHTML = docLinkHtml;\n",
              "          element.appendChild(docLink);\n",
              "        }\n",
              "      </script>\n",
              "    </div>\n",
              "  </div>\n",
              "  "
            ],
            "text/plain": [
              "       AGE    CRED   HEQ  ...  RESTYPE_HOME RESTYPE_RENTER  RES_STA_3_plus\n",
              "0       20   543.0   0.1  ...             1              0               0\n",
              "1       18   617.0   0.1  ...             1              0               0\n",
              "2       19   617.0   0.1  ...             1              0               0\n",
              "3       18   617.0   0.1  ...             1              0               0\n",
              "4       18   522.0   0.1  ...             1              0               0\n",
              "...    ...     ...   ...  ...           ...            ...             ...\n",
              "29899   56  1789.0  30.0  ...             0              0               1\n",
              "29900   58  1789.0  30.0  ...             1              0               1\n",
              "29901   64  1789.0  30.0  ...             0              1               0\n",
              "29902   64  1789.0  30.0  ...             1              0               0\n",
              "29903   68  1789.0  90.0  ...             1              0               1\n",
              "\n",
              "[29904 rows x 25 columns]"
            ]
          },
          "execution_count": 49,
          "metadata": {},
          "output_type": "execute_result"
        }
      ],
      "source": [
        "# Renaming the columns \n",
        "email_data.rename(columns={'EMP_STA_1,2':'EMP_STA_1_2','EMP_STA_3+':'EMP_STA_3_plus','RES_STA_3+':'RES_STA_3_plus'}, inplace=True)\n",
        "email_data"
      ]
    },
    {
      "cell_type": "markdown",
      "metadata": {
        "id": "Q_5f5oUeiWfo"
      },
      "source": [
        "# 6) Finally Clean-up the dataframe for modeling by removing unnecessary columns.(parent columns of the dummy columns)"
      ]
    },
    {
      "cell_type": "code",
      "execution_count": null,
      "metadata": {
        "id": "oP_dfTyjhTd-"
      },
      "outputs": [],
      "source": [
        "## Merge Dummy columns to dataframe:\n",
        "# Concatenate dummy columns with main dataframe"
      ]
    },
    {
      "cell_type": "code",
      "execution_count": null,
      "metadata": {
        "colab": {
          "base_uri": "https://localhost:8080/"
        },
        "id": "Ma9rjOBpiPXB",
        "outputId": "d68d273a-1d2d-416f-c113-3cd0a0bedc7c"
      },
      "outputs": [
        {
          "data": {
            "text/plain": [
              "Index(['INCOME', 'MOB', 'MILEAGE', 'DELINQ', 'NUMTR', 'MFDU', 'resp',\n",
              "       'CRED_TEMP', 'AGE_TEMP', 'HEQ_TEMP', 'EMP_STA_1_2', 'EMP_STA_3_plus',\n",
              "       'GENDER_M', 'MRTGI_U', 'MRTGI_Y', 'MS_U', 'MS_X', 'RESTYPE_COOP',\n",
              "       'RESTYPE_HOME', 'RESTYPE_RENTER', 'RES_STA_3_plus'],\n",
              "      dtype='object')"
            ]
          },
          "execution_count": 51,
          "metadata": {},
          "output_type": "execute_result"
        }
      ],
      "source": [
        "## Drop parent columns\n",
        "cat_list=['DEPC','CRED','AGE','HEQ']\n",
        "email_data.drop(cat_list, axis=1, inplace=True)\n",
        "email_data.columns"
      ]
    },
    {
      "cell_type": "markdown",
      "metadata": {
        "id": "KSPihVgbyAUW"
      },
      "source": [
        "# Part3: Decision Tree Modeling\n",
        "\n",
        "7. Do a Train-Test Split 20%; and `random_state = 42`.\n",
        "8. Build a Decision Tree model\n",
        "  * predict labels on train and test data\n",
        "  * Create confusion matrices\n",
        "  * Calculate Accuracies\n",
        "  * Calculate Sensitivity and Specificity( recall for class1 and class0)\n",
        "9. Perform Hyper Parameter search to solve overfitting:\n",
        "  * `max_depth` and `max_leaf_nodes`\n",
        "10. Perform Hyper Parameter search for higher Sensitivity or Specificity(whichever is required for this problem).\n"
      ]
    },
    {
      "cell_type": "markdown",
      "metadata": {
        "id": "ImzLkXIxoYCL"
      },
      "source": [
        "# 7) Do a Train-Test Split 20%; keep `random_state = 42`."
      ]
    },
    {
      "cell_type": "code",
      "execution_count": null,
      "metadata": {
        "id": "7i2WisuLF3Ug"
      },
      "outputs": [],
      "source": [
        "from sklearn.model_selection import train_test_split"
      ]
    },
    {
      "cell_type": "code",
      "execution_count": null,
      "metadata": {
        "id": "HDNxtSKL9zap"
      },
      "outputs": [],
      "source": [
        "# Write your code here\n",
        "x=email_data.loc[:,email_data.drop('resp',axis=1).columns.tolist()]\n",
        "y=email_data['resp']"
      ]
    },
    {
      "cell_type": "code",
      "execution_count": null,
      "metadata": {
        "id": "08VHuPF6HjBQ"
      },
      "outputs": [],
      "source": [
        "X_train, X_test, y_train, y_test=train_test_split(x,y, test_size=0.2,random_state=42)"
      ]
    },
    {
      "cell_type": "markdown",
      "metadata": {
        "id": "F_mQ_zDAwE5J"
      },
      "source": [
        "# 8) Build First Decision Tree Model\n",
        "  * predict labels on train and test data\n",
        "  * Create confusion matrices\n",
        "  * Calculate Accuracies\n",
        "  * Calculate Sensitivity and Specificity\n",
        "**HINT:** you may want to utilize `classifcation_report` from `sklearn.matrices`"
      ]
    },
    {
      "cell_type": "code",
      "execution_count": null,
      "metadata": {
        "id": "VbENxWzaI27z"
      },
      "outputs": [],
      "source": [
        "from sklearn import tree"
      ]
    },
    {
      "cell_type": "code",
      "execution_count": null,
      "metadata": {
        "colab": {
          "base_uri": "https://localhost:8080/"
        },
        "id": "DtJyeGHbPcEV",
        "outputId": "e81522f4-b255-424b-c3f5-07d3b778cd43"
      },
      "outputs": [
        {
          "data": {
            "text/plain": [
              "DecisionTreeClassifier(max_depth=5)"
            ]
          },
          "execution_count": 56,
          "metadata": {},
          "output_type": "execute_result"
        }
      ],
      "source": [
        "# Write your code here\n",
        "#Building Tree Model\\\n",
        "DTree = tree.DecisionTreeClassifier(max_depth=5)\n",
        "DTree.fit(X_train,y_train)"
      ]
    },
    {
      "cell_type": "code",
      "execution_count": null,
      "metadata": {
        "colab": {
          "base_uri": "https://localhost:8080/",
          "height": 1000
        },
        "id": "4R2PGrL1w-Ns",
        "outputId": "708874a2-e331-4c20-d8f0-3be041e44177"
      },
      "outputs": [
        {
          "data": {
            "text/plain": [
              "[Text(694.2099056603773, 498.3, 'MFDU <= 0.5\\nsamples = 23923\\nvalue = [21656, 2267]'),\n",
              " Text(348.75, 407.70000000000005, 'INCOME <= 25.0\\nsamples = 13060\\nvalue = [12114, 946]'),\n",
              " Text(144.76415094339623, 317.1, 'AGE_TEMP <= 29.5\\nsamples = 1754\\nvalue = [1524, 230]'),\n",
              " Text(52.64150943396226, 226.5, 'MILEAGE <= 0.104\\nsamples = 432\\nvalue = [359, 73]'),\n",
              " Text(26.32075471698113, 135.89999999999998, 'samples = 1\\nvalue = [0, 1]'),\n",
              " Text(78.9622641509434, 135.89999999999998, 'DELINQ <= 1.5\\nsamples = 431\\nvalue = [359, 72]'),\n",
              " Text(52.64150943396226, 45.299999999999955, 'samples = 341\\nvalue = [291, 50]'),\n",
              " Text(105.28301886792453, 45.299999999999955, 'samples = 90\\nvalue = [68, 22]'),\n",
              " Text(236.88679245283018, 226.5, 'CRED_TEMP <= 722.5\\nsamples = 1322\\nvalue = [1165, 157]'),\n",
              " Text(184.24528301886792, 135.89999999999998, 'CRED_TEMP <= 720.5\\nsamples = 1246\\nvalue = [1091, 155]'),\n",
              " Text(157.9245283018868, 45.299999999999955, 'samples = 1244\\nvalue = [1091, 153]'),\n",
              " Text(210.56603773584905, 45.299999999999955, 'samples = 2\\nvalue = [0, 2]'),\n",
              " Text(289.52830188679246, 135.89999999999998, 'CRED_TEMP <= 865.5\\nsamples = 76\\nvalue = [74, 2]'),\n",
              " Text(263.20754716981133, 45.299999999999955, 'samples = 61\\nvalue = [61, 0]'),\n",
              " Text(315.8490566037736, 45.299999999999955, 'samples = 15\\nvalue = [13, 2]'),\n",
              " Text(552.7358490566038, 317.1, 'INCOME <= 35.0\\nsamples = 11306\\nvalue = [10590, 716]'),\n",
              " Text(447.45283018867923, 226.5, 'MILEAGE <= 19.815\\nsamples = 2636\\nvalue = [2408, 228]'),\n",
              " Text(394.811320754717, 135.89999999999998, 'CRED_TEMP <= 754.0\\nsamples = 2595\\nvalue = [2376, 219]'),\n",
              " Text(368.49056603773585, 45.299999999999955, 'samples = 2540\\nvalue = [2330, 210]'),\n",
              " Text(421.1320754716981, 45.299999999999955, 'samples = 55\\nvalue = [46, 9]'),\n",
              " Text(500.0943396226415, 135.89999999999998, 'CRED_TEMP <= 468.5\\nsamples = 41\\nvalue = [32, 9]'),\n",
              " Text(473.77358490566036, 45.299999999999955, 'samples = 3\\nvalue = [1, 2]'),\n",
              " Text(526.4150943396227, 45.299999999999955, 'samples = 38\\nvalue = [31, 7]'),\n",
              " Text(658.0188679245283, 226.5, 'INCOME <= 55.0\\nsamples = 8670\\nvalue = [8182, 488]'),\n",
              " Text(605.377358490566, 135.89999999999998, 'CRED_TEMP <= 408.5\\nsamples = 7113\\nvalue = [6682, 431]'),\n",
              " Text(579.0566037735849, 45.299999999999955, 'samples = 462\\nvalue = [418, 44]'),\n",
              " Text(631.6981132075472, 45.299999999999955, 'samples = 6651\\nvalue = [6264, 387]'),\n",
              " Text(710.6603773584906, 135.89999999999998, 'AGE_TEMP <= 27.5\\nsamples = 1557\\nvalue = [1500, 57]'),\n",
              " Text(684.3396226415094, 45.299999999999955, 'samples = 68\\nvalue = [61, 7]'),\n",
              " Text(736.9811320754717, 45.299999999999955, 'samples = 1489\\nvalue = [1439, 50]'),\n",
              " Text(1039.6698113207547, 407.70000000000005, 'AGE_TEMP <= 27.5\\nsamples = 10863\\nvalue = [9542, 1321]'),\n",
              " Text(894.9056603773585, 317.1, 'CRED_TEMP <= 707.0\\nsamples = 907\\nvalue = [761, 146]'),\n",
              " Text(868.5849056603773, 226.5, 'MILEAGE <= 13.075\\nsamples = 879\\nvalue = [733, 146]'),\n",
              " Text(815.9433962264151, 135.89999999999998, 'CRED_TEMP <= 705.0\\nsamples = 476\\nvalue = [410, 66]'),\n",
              " Text(789.622641509434, 45.299999999999955, 'samples = 475\\nvalue = [410, 65]'),\n",
              " Text(842.2641509433962, 45.299999999999955, 'samples = 1\\nvalue = [0, 1]'),\n",
              " Text(921.2264150943396, 135.89999999999998, 'MILEAGE <= 13.085\\nsamples = 403\\nvalue = [323, 80]'),\n",
              " Text(894.9056603773585, 45.299999999999955, 'samples = 2\\nvalue = [0, 2]'),\n",
              " Text(947.5471698113207, 45.299999999999955, 'samples = 401\\nvalue = [323, 78]'),\n",
              " Text(921.2264150943396, 226.5, 'samples = 28\\nvalue = [28, 0]'),\n",
              " Text(1184.433962264151, 317.1, 'DELINQ <= 0.5\\nsamples = 9956\\nvalue = [8781, 1175]'),\n",
              " Text(1079.1509433962265, 226.5, 'NUMTR <= 1.5\\nsamples = 5898\\nvalue = [5263, 635]'),\n",
              " Text(1026.5094339622642, 135.89999999999998, 'AGE_TEMP <= 48.5\\nsamples = 5318\\nvalue = [4771, 547]'),\n",
              " Text(1000.188679245283, 45.299999999999955, 'samples = 2225\\nvalue = [1964, 261]'),\n",
              " Text(1052.8301886792453, 45.299999999999955, 'samples = 3093\\nvalue = [2807, 286]'),\n",
              " Text(1131.7924528301887, 135.89999999999998, 'CRED_TEMP <= 709.5\\nsamples = 580\\nvalue = [492, 88]'),\n",
              " Text(1105.4716981132076, 45.299999999999955, 'samples = 538\\nvalue = [463, 75]'),\n",
              " Text(1158.1132075471698, 45.299999999999955, 'samples = 42\\nvalue = [29, 13]'),\n",
              " Text(1289.7169811320755, 226.5, 'CRED_TEMP <= 542.0\\nsamples = 4058\\nvalue = [3518, 540]'),\n",
              " Text(1237.0754716981132, 135.89999999999998, 'CRED_TEMP <= 341.0\\nsamples = 508\\nvalue = [419, 89]'),\n",
              " Text(1210.754716981132, 45.299999999999955, 'samples = 94\\nvalue = [84, 10]'),\n",
              " Text(1263.3962264150944, 45.299999999999955, 'samples = 414\\nvalue = [335, 79]'),\n",
              " Text(1342.3584905660377, 135.89999999999998, 'MILEAGE <= 19.976\\nsamples = 3550\\nvalue = [3099, 451]'),\n",
              " Text(1316.0377358490566, 45.299999999999955, 'samples = 3522\\nvalue = [3080, 442]'),\n",
              " Text(1368.6792452830189, 45.299999999999955, 'samples = 28\\nvalue = [19, 9]')]"
            ]
          },
          "execution_count": 57,
          "metadata": {},
          "output_type": "execute_result"
        },
        {
          "data": {
            "image/png": "[encoded data removed]",
            "text/plain": [
              "<Figure size 1800x720 with 1 Axes>"
            ]
          },
          "metadata": {
            "needs_background": "light"
          },
          "output_type": "display_data"
        }
      ],
      "source": [
        "# import matplotlib.pyplot as plt\n",
        "# from sklearn.tree import plot_tree, export_text\n",
        "# plt.figure()\n",
        "# plot_tree(clf1, feature_names = list(X_train.columns.values), filled=True)\n",
        "# plt.show()\n",
        "##Plotting the trees \n",
        "import matplotlib.pyplot as plt\n",
        "from sklearn.tree import plot_tree, export_text\n",
        "plt.figure(figsize=(25,10))\n",
        "plot_tree(DTree, filled=True, \n",
        "                     rounded=True,\n",
        "                     impurity=False,\n",
        "                     feature_names = list(X_train.columns))\n"
      ]
    },
    {
      "cell_type": "code",
      "execution_count": null,
      "metadata": {
        "colab": {
          "base_uri": "https://localhost:8080/"
        },
        "id": "d_PLx7jRLq8X",
        "outputId": "59f54652-8ff3-4f8c-c496-ddfdf59b3aed"
      },
      "outputs": [
        {
          "name": "stdout",
          "output_type": "stream",
          "text": [
            "|--- MFDU <= 0.50\n",
            "|   |--- INCOME <= 25.00\n",
            "|   |   |--- AGE_TEMP <= 29.50\n",
            "|   |   |   |--- MILEAGE <= 0.10\n",
            "|   |   |   |   |--- class: 1\n",
            "|   |   |   |--- MILEAGE >  0.10\n",
            "|   |   |   |   |--- DELINQ <= 1.50\n",
            "|   |   |   |   |   |--- class: 0\n",
            "|   |   |   |   |--- DELINQ >  1.50\n",
            "|   |   |   |   |   |--- class: 0\n",
            "|   |   |--- AGE_TEMP >  29.50\n",
            "|   |   |   |--- CRED_TEMP <= 722.50\n",
            "|   |   |   |   |--- CRED_TEMP <= 720.50\n",
            "|   |   |   |   |   |--- class: 0\n",
            "|   |   |   |   |--- CRED_TEMP >  720.50\n",
            "|   |   |   |   |   |--- class: 1\n",
            "|   |   |   |--- CRED_TEMP >  722.50\n",
            "|   |   |   |   |--- CRED_TEMP <= 865.50\n",
            "|   |   |   |   |   |--- class: 0\n",
            "|   |   |   |   |--- CRED_TEMP >  865.50\n",
            "|   |   |   |   |   |--- class: 0\n",
            "|   |--- INCOME >  25.00\n",
            "|   |   |--- INCOME <= 35.00\n",
            "|   |   |   |--- MILEAGE <= 19.82\n",
            "|   |   |   |   |--- CRED_TEMP <= 754.00\n",
            "|   |   |   |   |   |--- class: 0\n",
            "|   |   |   |   |--- CRED_TEMP >  754.00\n",
            "|   |   |   |   |   |--- class: 0\n",
            "|   |   |   |--- MILEAGE >  19.82\n",
            "|   |   |   |   |--- CRED_TEMP <= 468.50\n",
            "|   |   |   |   |   |--- class: 1\n",
            "|   |   |   |   |--- CRED_TEMP >  468.50\n",
            "|   |   |   |   |   |--- class: 0\n",
            "|   |   |--- INCOME >  35.00\n",
            "|   |   |   |--- INCOME <= 55.00\n",
            "|   |   |   |   |--- CRED_TEMP <= 408.50\n",
            "|   |   |   |   |   |--- class: 0\n",
            "|   |   |   |   |--- CRED_TEMP >  408.50\n",
            "|   |   |   |   |   |--- class: 0\n",
            "|   |   |   |--- INCOME >  55.00\n",
            "|   |   |   |   |--- AGE_TEMP <= 27.50\n",
            "|   |   |   |   |   |--- class: 0\n",
            "|   |   |   |   |--- AGE_TEMP >  27.50\n",
            "|   |   |   |   |   |--- class: 0\n",
            "|--- MFDU >  0.50\n",
            "|   |--- AGE_TEMP <= 27.50\n",
            "|   |   |--- CRED_TEMP <= 707.00\n",
            "|   |   |   |--- MILEAGE <= 13.07\n",
            "|   |   |   |   |--- CRED_TEMP <= 705.00\n",
            "|   |   |   |   |   |--- class: 0\n",
            "|   |   |   |   |--- CRED_TEMP >  705.00\n",
            "|   |   |   |   |   |--- class: 1\n",
            "|   |   |   |--- MILEAGE >  13.07\n",
            "|   |   |   |   |--- MILEAGE <= 13.08\n",
            "|   |   |   |   |   |--- class: 1\n",
            "|   |   |   |   |--- MILEAGE >  13.08\n",
            "|   |   |   |   |   |--- class: 0\n",
            "|   |   |--- CRED_TEMP >  707.00\n",
            "|   |   |   |--- class: 0\n",
            "|   |--- AGE_TEMP >  27.50\n",
            "|   |   |--- DELINQ <= 0.50\n",
            "|   |   |   |--- NUMTR <= 1.50\n",
            "|   |   |   |   |--- AGE_TEMP <= 48.50\n",
            "|   |   |   |   |   |--- class: 0\n",
            "|   |   |   |   |--- AGE_TEMP >  48.50\n",
            "|   |   |   |   |   |--- class: 0\n",
            "|   |   |   |--- NUMTR >  1.50\n",
            "|   |   |   |   |--- CRED_TEMP <= 709.50\n",
            "|   |   |   |   |   |--- class: 0\n",
            "|   |   |   |   |--- CRED_TEMP >  709.50\n",
            "|   |   |   |   |   |--- class: 0\n",
            "|   |   |--- DELINQ >  0.50\n",
            "|   |   |   |--- CRED_TEMP <= 542.00\n",
            "|   |   |   |   |--- CRED_TEMP <= 341.00\n",
            "|   |   |   |   |   |--- class: 0\n",
            "|   |   |   |   |--- CRED_TEMP >  341.00\n",
            "|   |   |   |   |   |--- class: 0\n",
            "|   |   |   |--- CRED_TEMP >  542.00\n",
            "|   |   |   |   |--- MILEAGE <= 19.98\n",
            "|   |   |   |   |   |--- class: 0\n",
            "|   |   |   |   |--- MILEAGE >  19.98\n",
            "|   |   |   |   |   |--- class: 0\n",
            "\n"
          ]
        }
      ],
      "source": [
        "#Tree Rules\n",
        "# print(export_text(clf1, feature_names = list(X_train.columns.values)))\n",
        "print( export_text(DTree, feature_names = list(X_train.columns)))"
      ]
    },
    {
      "cell_type": "markdown",
      "metadata": {
        "id": "IXhEvfSpyDck"
      },
      "source": [
        "### Train-Test; Accuracy and Confusion Matrix"
      ]
    },
    {
      "cell_type": "code",
      "execution_count": null,
      "metadata": {
        "id": "ZnewvFxOzCbi"
      },
      "outputs": [],
      "source": [
        "## Make predictions"
      ]
    },
    {
      "cell_type": "code",
      "execution_count": null,
      "metadata": {
        "colab": {
          "base_uri": "https://localhost:8080/"
        },
        "id": "74qwSCLZyOo5",
        "outputId": "de7d0ea8-57b1-447d-db68-bd34cc0bbad2"
      },
      "outputs": [
        {
          "name": "stdout",
          "output_type": "stream",
          "text": [
            "[[21655     1]\n",
            " [ 2259     8]]\n",
            "0.9055302428625173\n"
          ]
        }
      ],
      "source": [
        "# Write your code here\n",
        "#Train accuracy\n",
        "predict1 = DTree.predict(X_train)\n",
        "\n",
        "from sklearn.metrics import confusion_matrix ###for using confusion matrix###\n",
        "cm = confusion_matrix(y_train, predict1)\n",
        "print (cm)\n",
        "\n",
        "total = sum(sum(cm))\n",
        "#####from confusion matrix calculate accuracy\n",
        "accuracy = (cm[0,0]+cm[1,1])/total\n",
        "print(accuracy)"
      ]
    },
    {
      "cell_type": "code",
      "execution_count": null,
      "metadata": {
        "colab": {
          "base_uri": "https://localhost:8080/"
        },
        "id": "gZBunmKkO1IG",
        "outputId": "6543f05b-9ec7-4b90-a7bf-055300d3da99"
      },
      "outputs": [
        {
          "name": "stdout",
          "output_type": "stream",
          "text": [
            "[[5390    1]\n",
            " [ 590    0]]\n",
            "0.9011870924594549\n"
          ]
        }
      ],
      "source": [
        "# Test accuracy\n",
        "predict1 = DTree.predict(X_test)\n",
        "\n",
        "from sklearn.metrics import confusion_matrix ###for using confusion matrix###\n",
        "cm = confusion_matrix(y_test, predict1)\n",
        "print (cm)\n",
        "\n",
        "total = sum(sum(cm))\n",
        "#####from confusion matrix calculate accuracy\n",
        "accuracy = (cm[0,0]+cm[1,1])/total\n",
        "print(accuracy)"
      ]
    },
    {
      "cell_type": "markdown",
      "metadata": {
        "id": "9-1F60Wiz8C5"
      },
      "source": [
        "Check Confusion matrices for both train and test predictions again and see if your model overfitting?"
      ]
    },
    {
      "cell_type": "code",
      "execution_count": null,
      "metadata": {
        "id": "HsTPvRk_ag5p"
      },
      "outputs": [],
      "source": []
    },
    {
      "cell_type": "markdown",
      "metadata": {
        "id": "HJY_YrfyLM15"
      },
      "source": [
        "`Write your observation in plain english here`"
      ]
    },
    {
      "cell_type": "markdown",
      "metadata": {
        "id": "YKRugm0S_Xlv"
      },
      "source": [
        "Here the accuracy is high but (1,1) value is far less which makes our model not suitable to predict correctly, so we have to tune the model"
      ]
    },
    {
      "cell_type": "markdown",
      "metadata": {
        "id": "cglfGNAHyAXu"
      },
      "source": [
        "# 9) Perform Hyper Parameter search to solve overfitting: Grid Search\n",
        "   `max_depth` and `max_leaf_nodes`\n",
        "\n",
        "  **HINTs:**\n",
        "  1. `from sklearn.model_selection import GridSearchCV`\n",
        "  2. you may need to create a dictionary of parameter_grid, with parameter names as keys.\n",
        "\n",
        "Look at the Classification Matrix, calculate the sensitivity and specificity of the model on both train and test data. And observe carefully."
      ]
    },
    {
      "cell_type": "code",
      "execution_count": null,
      "metadata": {
        "id": "DQqzOjmV77bz"
      },
      "outputs": [],
      "source": [
        "# Write your code here\n",
        "from sklearn.metrics import make_scorer, accuracy_score\n",
        "from sklearn.model_selection import GridSearchCV"
      ]
    },
    {
      "cell_type": "code",
      "execution_count": null,
      "metadata": {
        "id": "tDj3GNxlx_GY"
      },
      "outputs": [],
      "source": [
        "parameters = {\n",
        "              'max_features': ['auto'], \n",
        "              'criterion': ['entropy'],\n",
        "              'max_depth':[5],\n",
        "              'max_leaf_nodes':[40],\n",
        "             }"
      ]
    },
    {
      "cell_type": "code",
      "execution_count": null,
      "metadata": {
        "id": "HRL6iXK_ruud"
      },
      "outputs": [],
      "source": [
        "acc_scorer = make_scorer(accuracy_score)\n",
        "grid_obj = GridSearchCV(DTree, parameters, scoring=acc_scorer)\n",
        "grid_obj = grid_obj.fit(X_train, y_train)"
      ]
    },
    {
      "cell_type": "code",
      "execution_count": null,
      "metadata": {
        "colab": {
          "base_uri": "https://localhost:8080/"
        },
        "id": "pwShkxL3g1E5",
        "outputId": "fd026cce-9c1b-4019-f953-6537f10bc7b0"
      },
      "outputs": [
        {
          "data": {
            "text/plain": [
              "DecisionTreeClassifier(criterion='entropy', max_depth=5, max_features='auto',\n",
              "                       max_leaf_nodes=40)"
            ]
          },
          "execution_count": 65,
          "metadata": {},
          "output_type": "execute_result"
        }
      ],
      "source": [
        "# Set the clf to the best combination of parameters\n",
        "clf = grid_obj.best_estimator_\n",
        "\n",
        "# Fit the best algorithm to the data. \n",
        "clf.fit(X_train, y_train)"
      ]
    },
    {
      "cell_type": "code",
      "execution_count": null,
      "metadata": {
        "colab": {
          "base_uri": "https://localhost:8080/",
          "height": 1000
        },
        "id": "0xdFxag4--cc",
        "outputId": "afc7878b-ad16-421b-86bd-061f77f997cb"
      },
      "outputs": [
        {
          "data": {
            "text/plain": [
              "[Text(694.2099056603773, 498.3, 'MFDU <= 0.5\\nsamples = 23923\\nvalue = [21656, 2267]'),\n",
              " Text(348.75, 407.70000000000005, 'INCOME <= 25.0\\nsamples = 13060\\nvalue = [12114, 946]'),\n",
              " Text(144.76415094339623, 317.1, 'AGE_TEMP <= 29.5\\nsamples = 1754\\nvalue = [1524, 230]'),\n",
              " Text(52.64150943396226, 226.5, 'MILEAGE <= 0.104\\nsamples = 432\\nvalue = [359, 73]'),\n",
              " Text(26.32075471698113, 135.89999999999998, 'samples = 1\\nvalue = [0, 1]'),\n",
              " Text(78.9622641509434, 135.89999999999998, 'DELINQ <= 1.5\\nsamples = 431\\nvalue = [359, 72]'),\n",
              " Text(52.64150943396226, 45.299999999999955, 'samples = 341\\nvalue = [291, 50]'),\n",
              " Text(105.28301886792453, 45.299999999999955, 'samples = 90\\nvalue = [68, 22]'),\n",
              " Text(236.88679245283018, 226.5, 'CRED_TEMP <= 722.5\\nsamples = 1322\\nvalue = [1165, 157]'),\n",
              " Text(184.24528301886792, 135.89999999999998, 'CRED_TEMP <= 720.5\\nsamples = 1246\\nvalue = [1091, 155]'),\n",
              " Text(157.9245283018868, 45.299999999999955, 'samples = 1244\\nvalue = [1091, 153]'),\n",
              " Text(210.56603773584905, 45.299999999999955, 'samples = 2\\nvalue = [0, 2]'),\n",
              " Text(289.52830188679246, 135.89999999999998, 'CRED_TEMP <= 865.5\\nsamples = 76\\nvalue = [74, 2]'),\n",
              " Text(263.20754716981133, 45.299999999999955, 'samples = 61\\nvalue = [61, 0]'),\n",
              " Text(315.8490566037736, 45.299999999999955, 'samples = 15\\nvalue = [13, 2]'),\n",
              " Text(552.7358490566038, 317.1, 'INCOME <= 35.0\\nsamples = 11306\\nvalue = [10590, 716]'),\n",
              " Text(447.45283018867923, 226.5, 'MILEAGE <= 19.815\\nsamples = 2636\\nvalue = [2408, 228]'),\n",
              " Text(394.811320754717, 135.89999999999998, 'CRED_TEMP <= 754.0\\nsamples = 2595\\nvalue = [2376, 219]'),\n",
              " Text(368.49056603773585, 45.299999999999955, 'samples = 2540\\nvalue = [2330, 210]'),\n",
              " Text(421.1320754716981, 45.299999999999955, 'samples = 55\\nvalue = [46, 9]'),\n",
              " Text(500.0943396226415, 135.89999999999998, 'CRED_TEMP <= 468.5\\nsamples = 41\\nvalue = [32, 9]'),\n",
              " Text(473.77358490566036, 45.299999999999955, 'samples = 3\\nvalue = [1, 2]'),\n",
              " Text(526.4150943396227, 45.299999999999955, 'samples = 38\\nvalue = [31, 7]'),\n",
              " Text(658.0188679245283, 226.5, 'INCOME <= 55.0\\nsamples = 8670\\nvalue = [8182, 488]'),\n",
              " Text(605.377358490566, 135.89999999999998, 'CRED_TEMP <= 408.5\\nsamples = 7113\\nvalue = [6682, 431]'),\n",
              " Text(579.0566037735849, 45.299999999999955, 'samples = 462\\nvalue = [418, 44]'),\n",
              " Text(631.6981132075472, 45.299999999999955, 'samples = 6651\\nvalue = [6264, 387]'),\n",
              " Text(710.6603773584906, 135.89999999999998, 'AGE_TEMP <= 27.5\\nsamples = 1557\\nvalue = [1500, 57]'),\n",
              " Text(684.3396226415094, 45.299999999999955, 'samples = 68\\nvalue = [61, 7]'),\n",
              " Text(736.9811320754717, 45.299999999999955, 'samples = 1489\\nvalue = [1439, 50]'),\n",
              " Text(1039.6698113207547, 407.70000000000005, 'AGE_TEMP <= 27.5\\nsamples = 10863\\nvalue = [9542, 1321]'),\n",
              " Text(894.9056603773585, 317.1, 'CRED_TEMP <= 707.0\\nsamples = 907\\nvalue = [761, 146]'),\n",
              " Text(868.5849056603773, 226.5, 'MILEAGE <= 13.075\\nsamples = 879\\nvalue = [733, 146]'),\n",
              " Text(815.9433962264151, 135.89999999999998, 'CRED_TEMP <= 705.0\\nsamples = 476\\nvalue = [410, 66]'),\n",
              " Text(789.622641509434, 45.299999999999955, 'samples = 475\\nvalue = [410, 65]'),\n",
              " Text(842.2641509433962, 45.299999999999955, 'samples = 1\\nvalue = [0, 1]'),\n",
              " Text(921.2264150943396, 135.89999999999998, 'MILEAGE <= 13.085\\nsamples = 403\\nvalue = [323, 80]'),\n",
              " Text(894.9056603773585, 45.299999999999955, 'samples = 2\\nvalue = [0, 2]'),\n",
              " Text(947.5471698113207, 45.299999999999955, 'samples = 401\\nvalue = [323, 78]'),\n",
              " Text(921.2264150943396, 226.5, 'samples = 28\\nvalue = [28, 0]'),\n",
              " Text(1184.433962264151, 317.1, 'DELINQ <= 0.5\\nsamples = 9956\\nvalue = [8781, 1175]'),\n",
              " Text(1079.1509433962265, 226.5, 'NUMTR <= 1.5\\nsamples = 5898\\nvalue = [5263, 635]'),\n",
              " Text(1026.5094339622642, 135.89999999999998, 'AGE_TEMP <= 48.5\\nsamples = 5318\\nvalue = [4771, 547]'),\n",
              " Text(1000.188679245283, 45.299999999999955, 'samples = 2225\\nvalue = [1964, 261]'),\n",
              " Text(1052.8301886792453, 45.299999999999955, 'samples = 3093\\nvalue = [2807, 286]'),\n",
              " Text(1131.7924528301887, 135.89999999999998, 'CRED_TEMP <= 709.5\\nsamples = 580\\nvalue = [492, 88]'),\n",
              " Text(1105.4716981132076, 45.299999999999955, 'samples = 538\\nvalue = [463, 75]'),\n",
              " Text(1158.1132075471698, 45.299999999999955, 'samples = 42\\nvalue = [29, 13]'),\n",
              " Text(1289.7169811320755, 226.5, 'CRED_TEMP <= 542.0\\nsamples = 4058\\nvalue = [3518, 540]'),\n",
              " Text(1237.0754716981132, 135.89999999999998, 'CRED_TEMP <= 341.0\\nsamples = 508\\nvalue = [419, 89]'),\n",
              " Text(1210.754716981132, 45.299999999999955, 'samples = 94\\nvalue = [84, 10]'),\n",
              " Text(1263.3962264150944, 45.299999999999955, 'samples = 414\\nvalue = [335, 79]'),\n",
              " Text(1342.3584905660377, 135.89999999999998, 'MILEAGE <= 19.976\\nsamples = 3550\\nvalue = [3099, 451]'),\n",
              " Text(1316.0377358490566, 45.299999999999955, 'samples = 3522\\nvalue = [3080, 442]'),\n",
              " Text(1368.6792452830189, 45.299999999999955, 'samples = 28\\nvalue = [19, 9]')]"
            ]
          },
          "execution_count": 66,
          "metadata": {},
          "output_type": "execute_result"
        },
        {
          "data": {
            "image/png": "[encoded data removed]",
            "text/plain": [
              "<Figure size 1800x720 with 1 Axes>"
            ]
          },
          "metadata": {
            "needs_background": "light"
          },
          "output_type": "display_data"
        }
      ],
      "source": [
        "# plot the tree here\n",
        "plt.figure(figsize=(25,10))\n",
        "plot_tree(DTree, filled=True, \n",
        "                     rounded=True,\n",
        "                     impurity=False,\n",
        "                     feature_names = list(X_train.columns))"
      ]
    },
    {
      "cell_type": "code",
      "execution_count": null,
      "metadata": {
        "colab": {
          "base_uri": "https://localhost:8080/"
        },
        "id": "nrH7edOP0cyn",
        "outputId": "2a9a7d5c-749f-4285-8739-7d627eb7becf"
      },
      "outputs": [
        {
          "name": "stdout",
          "output_type": "stream",
          "text": [
            "Train predictions- 0.905237637420056\n",
            "Test predictions- 0.9013542885805049\n"
          ]
        }
      ],
      "source": [
        "## Make predictions\n",
        "# fOR train data\n",
        "predictions = clf.predict(X_train)\n",
        "print(\"Train predictions-\",accuracy_score(y_train, predictions))\n",
        "# for test data\n",
        "predictions = clf.predict(X_test)\n",
        "print(\"Test predictions-\",accuracy_score(y_test, predictions))"
      ]
    },
    {
      "cell_type": "code",
      "execution_count": null,
      "metadata": {
        "colab": {
          "base_uri": "https://localhost:8080/"
        },
        "id": "IduseVUl8kW3",
        "outputId": "d3f574c4-a104-4c63-dad7-4b7da76289c8"
      },
      "outputs": [
        {
          "name": "stdout",
          "output_type": "stream",
          "text": [
            "[[21655     1]\n",
            " [ 2259     8]]\n",
            "0.9055302428625173\n"
          ]
        }
      ],
      "source": [
        "#Train accuracy\n",
        "predict1 = DTree.predict(X_train)\n",
        "\n",
        "#from sklearn.metrics import confusion_matrix ###for using confusion matrix###\n",
        "cm = confusion_matrix(y_train, predict1)\n",
        "print (cm)\n",
        "\n",
        "total = sum(sum(cm))\n",
        "#####from confusion matrix calculate accuracy\n",
        "accuracy = (cm[0,0]+cm[1,1])/total\n",
        "print(accuracy)"
      ]
    },
    {
      "cell_type": "code",
      "execution_count": null,
      "metadata": {
        "colab": {
          "base_uri": "https://localhost:8080/"
        },
        "id": "BR9pHzHnOBv6",
        "outputId": "0566643d-625e-4a5b-bffe-f7cb5a7c2bce"
      },
      "outputs": [
        {
          "name": "stdout",
          "output_type": "stream",
          "text": [
            "Precision of zero  0.9055365058124948\n",
            "Precision of one  0.8888888888888888\n",
            "Recall of zero  0.999953823420761\n",
            "Recall of one  0.0035288928098809\n",
            "f0 score  0.9504059688391485\n",
            "f1 score  0.007029876977152899\n"
          ]
        }
      ],
      "source": [
        "## Classification report on training data\n",
        "precision_0=cm[0,0]/(cm[0,0]+cm[1,0])\n",
        "print('Precision of zero ',precision_0 )\n",
        "precision_1=cm[1,1]/(cm[0,1]+cm[1,1])\n",
        "print('Precision of one ', precision_1)\n",
        "recall_0= cm[0,0]/(cm[0,0]+cm[0,1])\n",
        "print('Recall of zero ', recall_0)\n",
        "recall_1= cm[1,1]/(cm[1,0]+cm[1,1])\n",
        "print('Recall of one ', recall_1)\n",
        "f0=2/((1/recall_0)+(1/precision_0))\n",
        "print('f0 score ', f0)\n",
        "f1=2/((1/recall_1)+(1/precision_1))\n",
        "print('f1 score ',f1 )"
      ]
    },
    {
      "cell_type": "code",
      "execution_count": null,
      "metadata": {
        "colab": {
          "base_uri": "https://localhost:8080/"
        },
        "id": "9lx3A84fKcFU",
        "outputId": "916ddf12-5d10-4e94-f69c-939ad104c27a"
      },
      "outputs": [
        {
          "name": "stdout",
          "output_type": "stream",
          "text": [
            "[[5390    1]\n",
            " [ 590    0]]\n",
            "0.9011870924594549\n"
          ]
        }
      ],
      "source": [
        "# Test accuracy\n",
        "predict1 = DTree.predict(X_test)\n",
        "\n",
        "from sklearn.metrics import confusion_matrix ###for using confusion matrix###\n",
        "cm = confusion_matrix(y_test, predict1)\n",
        "print (cm)\n",
        "\n",
        "total = sum(sum(cm))\n",
        "#####from confusion matrix calculate accuracy\n",
        "accuracy = (cm[0,0]+cm[1,1])/total\n",
        "print(accuracy)"
      ]
    },
    {
      "cell_type": "code",
      "execution_count": null,
      "metadata": {
        "id": "fNwVr13mD0sK"
      },
      "outputs": [],
      "source": []
    },
    {
      "cell_type": "code",
      "execution_count": null,
      "metadata": {
        "colab": {
          "base_uri": "https://localhost:8080/",
          "height": 53
        },
        "id": "dsMiIsHY6E3f",
        "outputId": "a726fcfd-9b6f-45ca-8cb0-836c81dc0f39"
      },
      "outputs": [
        {
          "data": {
            "application/vnd.google.colaboratory.intrinsic+json": {
              "type": "string"
            },
            "text/plain": [
              "'INCOME + MOB + MILEAGE + DELINQ + NUMTR + MFDU + CRED_TEMP + AGE_TEMP + HEQ_TEMP + EMP_STA_1_2 + EMP_STA_3_plus + GENDER_M + MRTGI_U + MRTGI_Y + MS_U + MS_X + RESTYPE_COOP + RESTYPE_HOME + RESTYPE_RENTER + RES_STA_3_plus'"
            ]
          },
          "execution_count": 71,
          "metadata": {},
          "output_type": "execute_result"
        }
      ],
      "source": [
        "X_train_cat=\" + \".join(X_train.columns)\n",
        "X_train_cat"
      ]
    },
    {
      "cell_type": "code",
      "execution_count": null,
      "metadata": {
        "id": "szsKyalG5osI"
      },
      "outputs": [],
      "source": [
        "\n",
        "model_formula=\"resp ~ \" + X_train_cat"
      ]
    },
    {
      "cell_type": "code",
      "execution_count": null,
      "metadata": {
        "colab": {
          "base_uri": "https://localhost:8080/"
        },
        "id": "ATss6a9W5nYW",
        "outputId": "4612c51d-601c-413d-86f4-094c0b8a2e32"
      },
      "outputs": [
        {
          "name": "stderr",
          "output_type": "stream",
          "text": [
            "/usr/local/lib/python3.7/dist-packages/statsmodels/tools/_testing.py:19: FutureWarning: pandas.util.testing is deprecated. Use the functions in the public API at pandas.testing instead.\n",
            "  import pandas.util.testing as tm\n"
          ]
        },
        {
          "name": "stdout",
          "output_type": "stream",
          "text": [
            "Optimization terminated successfully.\n",
            "         Current function value: 0.309325\n",
            "         Iterations 8\n",
            "                           Logit Regression Results                           \n",
            "==============================================================================\n",
            "Dep. Variable:                   resp   No. Observations:                29904\n",
            "Model:                          Logit   Df Residuals:                    29884\n",
            "Method:                           MLE   Df Model:                           19\n",
            "Date:                Sat, 18 Dec 2021   Pseudo R-squ.:                 0.01854\n",
            "Time:                        04:05:50   Log-Likelihood:                -9250.1\n",
            "converged:                       True   LL-Null:                       -9424.8\n",
            "Covariance Type:            nonrobust   LLR p-value:                 1.279e-62\n",
            "==================================================================================\n",
            "                     coef    std err          z      P>|z|      [0.025      0.975]\n",
            "----------------------------------------------------------------------------------\n",
            "Intercept         -1.1574        nan        nan        nan         nan         nan\n",
            "INCOME            -0.0109      0.002     -6.873      0.000      -0.014      -0.008\n",
            "MOB                0.0404      0.041      0.985      0.325      -0.040       0.121\n",
            "MILEAGE            0.0098      0.004      2.701      0.007       0.003       0.017\n",
            "DELINQ             0.0656      0.017      3.800      0.000       0.032       0.099\n",
            "NUMTR              0.1323      0.028      4.649      0.000       0.077       0.188\n",
            "MFDU              -0.4283        nan        nan        nan         nan         nan\n",
            "CRED_TEMP         -0.0008      0.000     -3.722      0.000      -0.001      -0.000\n",
            "AGE_TEMP          -0.0054      0.002     -3.160      0.002      -0.009      -0.002\n",
            "HEQ_TEMP          -0.0005      0.001     -0.851      0.395      -0.002       0.001\n",
            "EMP_STA_1_2        0.2246      0.122      1.844      0.065      -0.014       0.463\n",
            "EMP_STA_3_plus     0.0866      0.147      0.590      0.555      -0.201       0.374\n",
            "GENDER_M           0.1017      0.040      2.518      0.012       0.023       0.181\n",
            "MRTGI_U            0.0067      0.105      0.064      0.949      -0.198       0.212\n",
            "MRTGI_Y            0.0519      0.063      0.821      0.412      -0.072       0.176\n",
            "MS_U              -0.0719      0.041     -1.743      0.081      -0.153       0.009\n",
            "MS_X              -0.0473      0.116     -0.409      0.683      -0.274       0.180\n",
            "RESTYPE_COOP       0.1782      0.177      1.004      0.315      -0.170       0.526\n",
            "RESTYPE_HOME      -0.7291        nan        nan        nan         nan         nan\n",
            "RESTYPE_RENTER     0.3041      0.151      2.014      0.044       0.008       0.600\n",
            "RES_STA_3_plus    -0.3280      0.093     -3.512      0.000      -0.511      -0.145\n",
            "==================================================================================\n"
          ]
        },
        {
          "name": "stderr",
          "output_type": "stream",
          "text": [
            "/usr/local/lib/python3.7/dist-packages/statsmodels/base/model.py:1286: RuntimeWarning: invalid value encountered in sqrt\n",
            "  bse_ = np.sqrt(np.diag(self.cov_params()))\n"
          ]
        }
      ],
      "source": [
        "import statsmodels.formula.api as sm\n",
        "risk_model=sm.logit(model_formula, data=email_data)\n",
        "results=risk_model.fit()\n",
        "print(results.summary())"
      ]
    },
    {
      "cell_type": "code",
      "execution_count": null,
      "metadata": {
        "colab": {
          "base_uri": "https://localhost:8080/"
        },
        "id": "czJtiJSeKtAt",
        "outputId": "33afacad-0fa2-4ab1-fe36-32cbedad0914"
      },
      "outputs": [
        {
          "name": "stdout",
          "output_type": "stream",
          "text": [
            "[0.12751378 0.11732396 0.12128988 0.11108973 0.10671985 0.10002386\n",
            " 0.21120691 0.12938723 0.23253362 0.12972516]\n"
          ]
        },
        {
          "data": {
            "text/plain": [
              "29904"
            ]
          },
          "execution_count": 74,
          "metadata": {},
          "output_type": "execute_result"
        }
      ],
      "source": [
        "#####Create the confusion matrix\n",
        "###predict the variable active customer from logistic fit####\n",
        "predictions = results.predict()\n",
        "print(predictions[0:10])\n",
        "len(predictions)"
      ]
    },
    {
      "cell_type": "code",
      "execution_count": null,
      "metadata": {
        "colab": {
          "base_uri": "https://localhost:8080/"
        },
        "id": "oJ4PF3TMKguq",
        "outputId": "fd5406db-102d-47da-ba8d-437d44256b22"
      },
      "outputs": [
        {
          "name": "stdout",
          "output_type": "stream",
          "text": [
            "[0, 0, 0, 0, 0, 0, 0, 0, 0, 0]\n"
          ]
        }
      ],
      "source": [
        "threshold=0.5\n",
        "predicted_class1=[ 0 if x < threshold else 1 for x in predictions]\n",
        "print(predicted_class1[0:10])"
      ]
    },
    {
      "cell_type": "code",
      "execution_count": null,
      "metadata": {
        "colab": {
          "base_uri": "https://localhost:8080/"
        },
        "id": "B0A7jYGPD3OV",
        "outputId": "3c709e6c-1d4c-4756-c312-8f50b4c36edf"
      },
      "outputs": [
        {
          "name": "stderr",
          "output_type": "stream",
          "text": [
            "/usr/local/lib/python3.7/dist-packages/sklearn/metrics/_classification.py:1308: UndefinedMetricWarning: Precision and F-score are ill-defined and being set to 0.0 in labels with no predicted samples. Use `zero_division` parameter to control this behavior.\n",
            "  _warn_prf(average, modifier, msg_start, len(result))\n"
          ]
        },
        {
          "name": "stdout",
          "output_type": "stream",
          "text": [
            "              precision    recall  f1-score   support\n",
            "\n",
            "           0       0.90      1.00      0.95     27047\n",
            "           1       0.00      0.00      0.00      2857\n",
            "\n",
            "    accuracy                           0.90     29904\n",
            "   macro avg       0.45      0.50      0.47     29904\n",
            "weighted avg       0.82      0.90      0.86     29904\n",
            "\n"
          ]
        },
        {
          "name": "stderr",
          "output_type": "stream",
          "text": [
            "/usr/local/lib/python3.7/dist-packages/sklearn/metrics/_classification.py:1308: UndefinedMetricWarning: Precision and F-score are ill-defined and being set to 0.0 in labels with no predicted samples. Use `zero_division` parameter to control this behavior.\n",
            "  _warn_prf(average, modifier, msg_start, len(result))\n",
            "/usr/local/lib/python3.7/dist-packages/sklearn/metrics/_classification.py:1308: UndefinedMetricWarning: Precision and F-score are ill-defined and being set to 0.0 in labels with no predicted samples. Use `zero_division` parameter to control this behavior.\n",
            "  _warn_prf(average, modifier, msg_start, len(result))\n"
          ]
        }
      ],
      "source": [
        "## Test Classification Report\n",
        "from sklearn.metrics import classification_report\n",
        "print(classification_report(email_data[\"resp\"],predicted_class1))"
      ]
    },
    {
      "cell_type": "markdown",
      "metadata": {
        "id": "3HkscRdYCXXt"
      },
      "source": [
        "Have a look at the accuracy of the class 1(AKA Recall for class1). Write your observations:"
      ]
    },
    {
      "cell_type": "markdown",
      "metadata": {
        "id": "GtsFXpQ1RHgk"
      },
      "source": [
        "Here the class 1 accuracy is 0 "
      ]
    },
    {
      "cell_type": "markdown",
      "metadata": {
        "id": "nYF3PICrLKno"
      },
      "source": [
        "`Write your observation in plain english here`"
      ]
    },
    {
      "cell_type": "markdown",
      "metadata": {
        "id": "dLMrXJhNxLoz"
      },
      "source": [
        "# 10) Run a Grid Search to improve Accuracy of class 1 AKA `Recall for class 1`.\n",
        "\n",
        "**Hint** : In grid serach try `scoring = 'recall'` or `f1`"
      ]
    },
    {
      "cell_type": "code",
      "execution_count": null,
      "metadata": {
        "id": "plZFzRS7-FnB"
      },
      "outputs": [],
      "source": [
        "# Write your code here\n",
        "grid_obj = GridSearchCV(DTree, parameters, scoring= 'recall')\n",
        "grid_obj = grid_obj.fit(X_train, y_train)"
      ]
    },
    {
      "cell_type": "code",
      "execution_count": null,
      "metadata": {
        "colab": {
          "base_uri": "https://localhost:8080/"
        },
        "id": "6pX7Dq9FX9d5",
        "outputId": "dc0148cd-beec-4eb2-adbd-545b96da839b"
      },
      "outputs": [
        {
          "data": {
            "text/plain": [
              "DecisionTreeClassifier(criterion='entropy', max_depth=5, max_features='auto',\n",
              "                       max_leaf_nodes=40)"
            ]
          },
          "execution_count": 78,
          "metadata": {},
          "output_type": "execute_result"
        }
      ],
      "source": [
        "# Set the clf to the best combination of parameters\n",
        "clf = grid_obj.best_estimator_\n",
        "\n",
        "# Fit the best algorithm to the data. \n",
        "clf.fit(X_train, y_train)"
      ]
    },
    {
      "cell_type": "code",
      "execution_count": null,
      "metadata": {
        "colab": {
          "base_uri": "https://localhost:8080/"
        },
        "id": "o9fpXR77YISi",
        "outputId": "16d74556-9912-40e5-a91b-fc06a5243872"
      },
      "outputs": [
        {
          "name": "stdout",
          "output_type": "stream",
          "text": [
            "Train predictions- 0.9053630397525394\n",
            "Test predictions- 0.9013542885805049\n"
          ]
        }
      ],
      "source": [
        "## Make predictions\n",
        "# fOR train data\n",
        "predictions = clf.predict(X_train)\n",
        "print(\"Train predictions-\",accuracy_score(y_train, predictions))\n",
        "# for test data\n",
        "predictions = clf.predict(X_test)\n",
        "print(\"Test predictions-\",accuracy_score(y_test, predictions))"
      ]
    },
    {
      "cell_type": "code",
      "execution_count": null,
      "metadata": {
        "colab": {
          "base_uri": "https://localhost:8080/"
        },
        "id": "xCdOxUQnYOzy",
        "outputId": "c1350c26-146a-47e6-cdeb-7f928b858daa"
      },
      "outputs": [
        {
          "name": "stdout",
          "output_type": "stream",
          "text": [
            "[[21655     1]\n",
            " [ 2259     8]]\n",
            "0.9055302428625173\n"
          ]
        }
      ],
      "source": [
        "#Train accuracy\n",
        "predict1 = DTree.predict(X_train)\n",
        "\n",
        "#from sklearn.metrics import confusion_matrix ###for using confusion matrix###\n",
        "cm = confusion_matrix(y_train, predict1)\n",
        "print (cm)\n",
        "\n",
        "total = sum(sum(cm))\n",
        "#####from confusion matrix calculate accuracy\n",
        "accuracy = (cm[0,0]+cm[1,1])/total\n",
        "print(accuracy)"
      ]
    },
    {
      "cell_type": "code",
      "execution_count": null,
      "metadata": {
        "colab": {
          "base_uri": "https://localhost:8080/"
        },
        "id": "CNAefFVBYiGI",
        "outputId": "d25f9360-d921-4e73-e1c0-767621c64a01"
      },
      "outputs": [
        {
          "name": "stdout",
          "output_type": "stream",
          "text": [
            "Precision of zero  0.9055365058124948\n",
            "Precision of one  0.8888888888888888\n",
            "Recall of zero  0.999953823420761\n",
            "Recall of one  0.0035288928098809\n",
            "f0 score  0.9504059688391485\n",
            "f1 score  0.007029876977152899\n"
          ]
        }
      ],
      "source": [
        "## Classification report on training data\n",
        "precision_0=cm[0,0]/(cm[0,0]+cm[1,0])\n",
        "print('Precision of zero ',precision_0 )\n",
        "precision_1=cm[1,1]/(cm[0,1]+cm[1,1])\n",
        "print('Precision of one ', precision_1)\n",
        "recall_0= cm[0,0]/(cm[0,0]+cm[0,1])\n",
        "print('Recall of zero ', recall_0)\n",
        "recall_1= cm[1,1]/(cm[1,0]+cm[1,1])\n",
        "print('Recall of one ', recall_1)\n",
        "f0=2/((1/recall_0)+(1/precision_0))\n",
        "print('f0 score ', f0)\n",
        "f1=2/((1/recall_1)+(1/precision_1))\n",
        "print('f1 score ',f1 )"
      ]
    },
    {
      "cell_type": "markdown",
      "metadata": {
        "id": "gKshqiBxypt6"
      },
      "source": [
        "# Part 4: Solve Class Imbalance and Finalize best model\n",
        "\n",
        "In the dataset classes are imbalanced that is causing the lower Specificity. We need to increase our Specificity(AKA `recall for class: 1`) for the model by balancing the dataset.\n",
        "\n",
        "Solve Class Imbalance with these methods:\n",
        "11. Build tree with : `class_weight=\"balanced\"`\n",
        "12. Balanced sampling.\n"
      ]
    },
    {
      "cell_type": "markdown",
      "metadata": {
        "id": "y6kWOstNXxwQ"
      },
      "source": [
        "# 11) Solve Class Imbalance with `DecisionTreeClassifier` parameter: `class_weight = balanced`\n",
        "Train a tree model till the Accuracy for class 1 (AKA recall for class 1) is above 50%"
      ]
    },
    {
      "cell_type": "markdown",
      "metadata": {
        "id": "HIcpkv_cU9Qa"
      },
      "source": [
        "### Tree with balanced class weights"
      ]
    },
    {
      "cell_type": "code",
      "execution_count": null,
      "metadata": {
        "colab": {
          "base_uri": "https://localhost:8080/"
        },
        "id": "c8oI5LGtKyp0",
        "outputId": "987e1d5f-f07b-4ee0-a0b0-12cdfedd5bee"
      },
      "outputs": [
        {
          "name": "stdout",
          "output_type": "stream",
          "text": [
            "Before 23923\n",
            "After 43312\n"
          ]
        }
      ],
      "source": [
        "# Write your code here\n",
        "from imblearn.over_sampling import SMOTE\n",
        "counter= (y_train).shape[0]\n",
        "print('Before', counter)\n",
        "\n",
        "smt=SMOTE()\n",
        "X_train_sm, y_train_sm = smt.fit_resample(X_train, y_train)\n",
        "\n",
        "counter= y_train_sm.shape[0]\n",
        "print('After', counter)"
      ]
    },
    {
      "cell_type": "code",
      "execution_count": null,
      "metadata": {
        "colab": {
          "base_uri": "https://localhost:8080/"
        },
        "id": "9iT0c87BK0A3",
        "outputId": "f2bb07e9-d619-402a-b1cd-a2781a964961"
      },
      "outputs": [
        {
          "data": {
            "text/plain": [
              "DecisionTreeClassifier(max_depth=5)"
            ]
          },
          "execution_count": 83,
          "metadata": {},
          "output_type": "execute_result"
        }
      ],
      "source": [
        "# Write your code here\n",
        "DTree = tree.DecisionTreeClassifier(max_depth=5)\n",
        "DTree.fit(X_train_sm,y_train_sm)"
      ]
    },
    {
      "cell_type": "code",
      "execution_count": null,
      "metadata": {
        "colab": {
          "base_uri": "https://localhost:8080/",
          "height": 1000
        },
        "id": "W7lGncghBhH-",
        "outputId": "892f1ef4-2012-44e1-ae03-54daa468280d"
      },
      "outputs": [
        {
          "data": {
            "text/plain": [
              "[Text(434.0, 498.3, 'RESTYPE_HOME <= 0.5\\nsamples = 43312\\nvalue = [21656, 21656]'),\n",
              " Text(170.5, 407.70000000000005, 'MFDU <= 0.5\\nsamples = 26648\\nvalue = [9542, 17106]'),\n",
              " Text(139.5, 317.1, 'samples = 9160\\nvalue = [0, 9160]'),\n",
              " Text(201.5, 317.1, 'DELINQ <= 0.0\\nsamples = 17488\\nvalue = [9542, 7946]'),\n",
              " Text(124.0, 226.5, 'NUMTR <= 0.0\\nsamples = 8430\\nvalue = [5723, 2707]'),\n",
              " Text(62.0, 135.89999999999998, 'GENDER_M <= 0.5\\nsamples = 5347\\nvalue = [4062, 1285]'),\n",
              " Text(31.0, 45.299999999999955, 'samples = 2451\\nvalue = [1727, 724]'),\n",
              " Text(93.0, 45.299999999999955, 'samples = 2896\\nvalue = [2335, 561]'),\n",
              " Text(186.0, 135.89999999999998, 'NUMTR <= 0.999\\nsamples = 3083\\nvalue = [1661, 1422]'),\n",
              " Text(155.0, 45.299999999999955, 'samples = 716\\nvalue = [0, 716]'),\n",
              " Text(217.0, 45.299999999999955, 'samples = 2367\\nvalue = [1661, 706]'),\n",
              " Text(279.0, 226.5, 'DELINQ <= 1.0\\nsamples = 9058\\nvalue = [3819, 5239]'),\n",
              " Text(248.0, 135.89999999999998, 'samples = 2364\\nvalue = [0, 2364]'),\n",
              " Text(310.0, 135.89999999999998, 'DELINQ <= 1.0\\nsamples = 6694\\nvalue = [3819, 2875]'),\n",
              " Text(279.0, 45.299999999999955, 'samples = 2524\\nvalue = [1917, 607]'),\n",
              " Text(341.0, 45.299999999999955, 'samples = 4170\\nvalue = [1902, 2268]'),\n",
              " Text(697.5, 407.70000000000005, 'INCOME <= 29.988\\nsamples = 16664\\nvalue = [12114, 4550]'),\n",
              " Text(527.0, 317.1, 'INCOME <= 20.011\\nsamples = 3016\\nvalue = [1524, 1492]'),\n",
              " Text(496.0, 226.5, 'DELINQ <= 0.001\\nsamples = 2512\\nvalue = [1524, 988]'),\n",
              " Text(434.0, 135.89999999999998, 'MS_U <= 0.5\\nsamples = 1242\\nvalue = [911, 331]'),\n",
              " Text(403.0, 45.299999999999955, 'samples = 815\\nvalue = [545, 270]'),\n",
              " Text(465.0, 45.299999999999955, 'samples = 427\\nvalue = [366, 61]'),\n",
              " Text(558.0, 135.89999999999998, 'DELINQ <= 0.999\\nsamples = 1270\\nvalue = [613, 657]'),\n",
              " Text(527.0, 45.299999999999955, 'samples = 259\\nvalue = [0, 259]'),\n",
              " Text(589.0, 45.299999999999955, 'samples = 1011\\nvalue = [613, 398]'),\n",
              " Text(558.0, 226.5, 'samples = 504\\nvalue = [0, 504]'),\n",
              " Text(868.0, 317.1, 'MS_U <= 0.5\\nsamples = 13648\\nvalue = [10590, 3058]'),\n",
              " Text(744.0, 226.5, 'DELINQ <= 0.001\\nsamples = 8982\\nvalue = [6438, 2544]'),\n",
              " Text(682.0, 135.89999999999998, 'MOB <= 0.5\\nsamples = 4842\\nvalue = [3839, 1003]'),\n",
              " Text(651.0, 45.299999999999955, 'samples = 1989\\nvalue = [1437, 552]'),\n",
              " Text(713.0, 45.299999999999955, 'samples = 2853\\nvalue = [2402, 451]'),\n",
              " Text(806.0, 135.89999999999998, 'DELINQ <= 1.0\\nsamples = 4140\\nvalue = [2599, 1541]'),\n",
              " Text(775.0, 45.299999999999955, 'samples = 715\\nvalue = [0, 715]'),\n",
              " Text(837.0, 45.299999999999955, 'samples = 3425\\nvalue = [2599, 826]'),\n",
              " Text(992.0, 226.5, 'NUMTR <= 0.0\\nsamples = 4666\\nvalue = [4152, 514]'),\n",
              " Text(930.0, 135.89999999999998, 'DELINQ <= 0.031\\nsamples = 3157\\nvalue = [2893, 264]'),\n",
              " Text(899.0, 45.299999999999955, 'samples = 1843\\nvalue = [1725, 118]'),\n",
              " Text(961.0, 45.299999999999955, 'samples = 1314\\nvalue = [1168, 146]'),\n",
              " Text(1054.0, 135.89999999999998, 'NUMTR <= 0.996\\nsamples = 1509\\nvalue = [1259, 250]'),\n",
              " Text(1023.0, 45.299999999999955, 'samples = 94\\nvalue = [0, 94]'),\n",
              " Text(1085.0, 45.299999999999955, 'samples = 1415\\nvalue = [1259, 156]')]"
            ]
          },
          "execution_count": 84,
          "metadata": {},
          "output_type": "execute_result"
        },
        {
          "data": {
            "image/png": "[encoded data removed]",
            "text/plain": [
              "<Figure size 1440x720 with 1 Axes>"
            ]
          },
          "metadata": {
            "needs_background": "light"
          },
          "output_type": "display_data"
        }
      ],
      "source": [
        "plt.figure(figsize=(20,10))\n",
        "plot_tree(DTree, filled=True, \n",
        "                     rounded=True,\n",
        "                     impurity=False,\n",
        "                     feature_names = list(X_train.columns))"
      ]
    },
    {
      "cell_type": "code",
      "execution_count": null,
      "metadata": {
        "colab": {
          "base_uri": "https://localhost:8080/"
        },
        "id": "vC7yvRrOBkB_",
        "outputId": "2e27ca48-91b4-4fbf-9d1c-19b3986f658d"
      },
      "outputs": [
        {
          "name": "stdout",
          "output_type": "stream",
          "text": [
            "|--- RESTYPE_HOME <= 0.50\n",
            "|   |--- MFDU <= 0.50\n",
            "|   |   |--- class: 1\n",
            "|   |--- MFDU >  0.50\n",
            "|   |   |--- DELINQ <= 0.00\n",
            "|   |   |   |--- NUMTR <= 0.00\n",
            "|   |   |   |   |--- GENDER_M <= 0.50\n",
            "|   |   |   |   |   |--- class: 0\n",
            "|   |   |   |   |--- GENDER_M >  0.50\n",
            "|   |   |   |   |   |--- class: 0\n",
            "|   |   |   |--- NUMTR >  0.00\n",
            "|   |   |   |   |--- NUMTR <= 1.00\n",
            "|   |   |   |   |   |--- class: 1\n",
            "|   |   |   |   |--- NUMTR >  1.00\n",
            "|   |   |   |   |   |--- class: 0\n",
            "|   |   |--- DELINQ >  0.00\n",
            "|   |   |   |--- DELINQ <= 1.00\n",
            "|   |   |   |   |--- class: 1\n",
            "|   |   |   |--- DELINQ >  1.00\n",
            "|   |   |   |   |--- DELINQ <= 1.00\n",
            "|   |   |   |   |   |--- class: 0\n",
            "|   |   |   |   |--- DELINQ >  1.00\n",
            "|   |   |   |   |   |--- class: 1\n",
            "|--- RESTYPE_HOME >  0.50\n",
            "|   |--- INCOME <= 29.99\n",
            "|   |   |--- INCOME <= 20.01\n",
            "|   |   |   |--- DELINQ <= 0.00\n",
            "|   |   |   |   |--- MS_U <= 0.50\n",
            "|   |   |   |   |   |--- class: 0\n",
            "|   |   |   |   |--- MS_U >  0.50\n",
            "|   |   |   |   |   |--- class: 0\n",
            "|   |   |   |--- DELINQ >  0.00\n",
            "|   |   |   |   |--- DELINQ <= 1.00\n",
            "|   |   |   |   |   |--- class: 1\n",
            "|   |   |   |   |--- DELINQ >  1.00\n",
            "|   |   |   |   |   |--- class: 0\n",
            "|   |   |--- INCOME >  20.01\n",
            "|   |   |   |--- class: 1\n",
            "|   |--- INCOME >  29.99\n",
            "|   |   |--- MS_U <= 0.50\n",
            "|   |   |   |--- DELINQ <= 0.00\n",
            "|   |   |   |   |--- MOB <= 0.50\n",
            "|   |   |   |   |   |--- class: 0\n",
            "|   |   |   |   |--- MOB >  0.50\n",
            "|   |   |   |   |   |--- class: 0\n",
            "|   |   |   |--- DELINQ >  0.00\n",
            "|   |   |   |   |--- DELINQ <= 1.00\n",
            "|   |   |   |   |   |--- class: 1\n",
            "|   |   |   |   |--- DELINQ >  1.00\n",
            "|   |   |   |   |   |--- class: 0\n",
            "|   |   |--- MS_U >  0.50\n",
            "|   |   |   |--- NUMTR <= 0.00\n",
            "|   |   |   |   |--- DELINQ <= 0.03\n",
            "|   |   |   |   |   |--- class: 0\n",
            "|   |   |   |   |--- DELINQ >  0.03\n",
            "|   |   |   |   |   |--- class: 0\n",
            "|   |   |   |--- NUMTR >  0.00\n",
            "|   |   |   |   |--- NUMTR <= 1.00\n",
            "|   |   |   |   |   |--- class: 1\n",
            "|   |   |   |   |--- NUMTR >  1.00\n",
            "|   |   |   |   |   |--- class: 0\n",
            "\n"
          ]
        }
      ],
      "source": [
        "print( export_text(DTree, feature_names = list(X_train_sm.columns)))"
      ]
    },
    {
      "cell_type": "code",
      "execution_count": null,
      "metadata": {
        "colab": {
          "base_uri": "https://localhost:8080/"
        },
        "id": "FNJip2HpB3zk",
        "outputId": "351e8ff6-d4c1-4feb-c49c-da1ed483efd8"
      },
      "outputs": [
        {
          "name": "stdout",
          "output_type": "stream",
          "text": [
            "[[19754  1902]\n",
            " [ 5576 16080]]\n",
            "0.8273457702253417\n"
          ]
        }
      ],
      "source": [
        "# Train accuracy\n",
        "predict1 = DTree.predict(X_train_sm)\n",
        "\n",
        "from sklearn.metrics import confusion_matrix ###for using confusion matrix###\n",
        "cm = confusion_matrix(y_train_sm, predict1)\n",
        "print(cm)\n",
        "\n",
        "total = sum(sum(cm))\n",
        "#####from confusion matrix calculate accuracy\n",
        "accuracy = (cm[0,0]+cm[1,1])/total\n",
        "print(accuracy)"
      ]
    },
    {
      "cell_type": "code",
      "execution_count": null,
      "metadata": {
        "colab": {
          "base_uri": "https://localhost:8080/"
        },
        "id": "zT4_sRw5B5O8",
        "outputId": "cedd5f74-4e3b-4285-f3f6-bfdf1c2aff80"
      },
      "outputs": [
        {
          "name": "stdout",
          "output_type": "stream",
          "text": [
            "[[4911  480]\n",
            " [ 510   80]]\n",
            "0.8344758401605082\n"
          ]
        }
      ],
      "source": [
        "# Test accuracy\n",
        "predict1 = DTree.predict(X_test)\n",
        "\n",
        "from sklearn.metrics import confusion_matrix ###for using confusion matrix###\n",
        "cm = confusion_matrix(y_test, predict1)\n",
        "print(cm)\n",
        "\n",
        "total = sum(sum(cm))\n",
        "#####from confusion matrix calculate accuracy\n",
        "accuracy = (cm[0,0]+cm[1,1])/total\n",
        "print(accuracy)"
      ]
    },
    {
      "cell_type": "markdown",
      "metadata": {
        "id": "zxz6Ih5-V_ou"
      },
      "source": [
        "Observe the Train and Test classification Report and write your observations:"
      ]
    },
    {
      "cell_type": "markdown",
      "metadata": {
        "id": "NU_e3lTtLECo"
      },
      "source": [
        "`Write your observation in plain english here`"
      ]
    },
    {
      "cell_type": "markdown",
      "metadata": {
        "id": "SbHtmPy4X1c1"
      },
      "source": [
        "# 12) Solve class Imbalance with Balanced Sampling. (over sampling the minority class and undersampling the majority class)\n",
        "Train a tree model till the Specificity(recall for class 1) is above 50%"
      ]
    },
    {
      "cell_type": "code",
      "execution_count": null,
      "metadata": {
        "id": "1bjdIgwDmOJN"
      },
      "outputs": [],
      "source": [
        "# Write your code here"
      ]
    },
    {
      "cell_type": "markdown",
      "metadata": {
        "id": "AJy5hjZnLhbS"
      },
      "source": [
        "Observe the final results and write your observations here:"
      ]
    },
    {
      "cell_type": "markdown",
      "metadata": {
        "id": "ztd74MC7LcwA"
      },
      "source": [
        "`Write your observation in plain english here`"
      ]
    },
    {
      "cell_type": "markdown",
      "metadata": {
        "id": "GAaWQJ94D0CD"
      },
      "source": [
        "## Try Feature Engineering and see if the Accuracy for calss1(Recall for class1) improves."
      ]
    },
    {
      "cell_type": "code",
      "execution_count": null,
      "metadata": {
        "id": "jSKtfgFTEFGa"
      },
      "outputs": [],
      "source": [
        "# Write your code here"
      ]
    }
  ],
  "metadata": {
    "colab": {
      "collapsed_sections": [
        "cV5XEdKXr0to",
        "NG6QgLtUr0pd",
        "eEvl5n5-9x7v",
        "EemBzeKQ-LRa",
        "PzIN383HAVzi",
        "Y_MgEBkTAfdk",
        "haM9sPc2ApUL",
        "jyGzmUFRVyrq",
        "cqkPusx6yAPC",
        "KSPihVgbyAUW",
        "gKshqiBxypt6",
        "SbHtmPy4X1c1",
        "GAaWQJ94D0CD"
      ],
      "name": "Shrikant Swain - Assignment7 v1 Questions Decision Tree Direct_Mail_Marketing.ipynb",
      "provenance": []
    },
    "kernelspec": {
      "display_name": "Python 3",
      "name": "python3"
    }
  },
  "nbformat": 4,
  "nbformat_minor": 0
}
